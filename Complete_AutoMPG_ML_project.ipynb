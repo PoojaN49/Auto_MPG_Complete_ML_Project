{
 "cells": [
  {
   "cell_type": "markdown",
   "metadata": {},
   "source": [
    "## Project : Auto_MPG_Classes"
   ]
  },
  {
   "cell_type": "markdown",
   "metadata": {},
   "source": [
    "* 1. Data Preprocessing\n",
    "* 2. Exploratory Data Analysis\n",
    "* 3. Handling Missing values and Outliers\n",
    "* 4. Train_Test_split\n",
    "* 5. Standardization\n",
    "* 6. Build Classification Models\n",
    "   * 1. DummyClassifier\n",
    "   * 2. SBD Classifier\n",
    "   * 3. LogisticRegression Classifier\n",
    "   * 4. SVM classifier\n",
    "   * 5. DecisionTree Classifier\n",
    "   * 6. RandomForest Classifier\n",
    "   * 7.Hard and Soft Voting\n",
    "* 7.Hyper Parameter Tuning\n",
    "* 8.Build Regression Models\n",
    "  * 1. DecisionTree Regressor\n",
    "* 9.Hyper Parameter Tuning\n",
    "* 10. Select Best Model based on Train and Test Accuracy "
   ]
  },
  {
   "cell_type": "code",
   "execution_count": 2,
   "metadata": {},
   "outputs": [],
   "source": [
    "# importing necessary lib for data understanding stage\n",
    "\n",
    "import matplotlib\n",
    "import pylab as plt\n",
    "import numpy as np\n",
    "import pandas as pd\n",
    "from scipy.stats import norm\n",
    "import seaborn as sns\n",
    "from sklearn.impute import SimpleImputer\n",
    "from sklearn.preprocessing import StandardScaler\n",
    "from sklearn.preprocessing import OneHotEncoder\n",
    "from sklearn.model_selection import train_test_split\n",
    "\n",
    "\n",
    "df=pd.read_csv(\"F:\\\\Final_project\\\\Auto_MPG_Class.csv\")"
   ]
  },
  {
   "cell_type": "markdown",
   "metadata": {},
   "source": [
    "## 1- Data Processing and Data Visualization"
   ]
  },
  {
   "cell_type": "markdown",
   "metadata": {},
   "source": [
    "### Data Description"
   ]
  },
  {
   "cell_type": "code",
   "execution_count": 3,
   "metadata": {},
   "outputs": [
    {
     "data": {
      "text/html": [
       "<div>\n",
       "<style scoped>\n",
       "    .dataframe tbody tr th:only-of-type {\n",
       "        vertical-align: middle;\n",
       "    }\n",
       "\n",
       "    .dataframe tbody tr th {\n",
       "        vertical-align: top;\n",
       "    }\n",
       "\n",
       "    .dataframe thead th {\n",
       "        text-align: right;\n",
       "    }\n",
       "</style>\n",
       "<table border=\"1\" class=\"dataframe\">\n",
       "  <thead>\n",
       "    <tr style=\"text-align: right;\">\n",
       "      <th></th>\n",
       "      <th>Cylinders</th>\n",
       "      <th>Displacement</th>\n",
       "      <th>Horsepower</th>\n",
       "      <th>Weight</th>\n",
       "      <th>Acceleration</th>\n",
       "      <th>Model year</th>\n",
       "      <th>Origin</th>\n",
       "      <th>MPG</th>\n",
       "      <th>Binary Classes</th>\n",
       "    </tr>\n",
       "  </thead>\n",
       "  <tbody>\n",
       "    <tr>\n",
       "      <th>0</th>\n",
       "      <td>4</td>\n",
       "      <td>91.0</td>\n",
       "      <td>53.0</td>\n",
       "      <td>1795.0</td>\n",
       "      <td>17.4</td>\n",
       "      <td>76</td>\n",
       "      <td>Asia</td>\n",
       "      <td>33.0</td>\n",
       "      <td>High Level</td>\n",
       "    </tr>\n",
       "    <tr>\n",
       "      <th>1</th>\n",
       "      <td>4</td>\n",
       "      <td>120.0</td>\n",
       "      <td>79.0</td>\n",
       "      <td>2625.0</td>\n",
       "      <td>18.6</td>\n",
       "      <td>82</td>\n",
       "      <td>North America</td>\n",
       "      <td>28.0</td>\n",
       "      <td>High Level</td>\n",
       "    </tr>\n",
       "    <tr>\n",
       "      <th>2</th>\n",
       "      <td>6</td>\n",
       "      <td>232.0</td>\n",
       "      <td>100.0</td>\n",
       "      <td>2634.0</td>\n",
       "      <td>13.0</td>\n",
       "      <td>71</td>\n",
       "      <td>North America</td>\n",
       "      <td>19.0</td>\n",
       "      <td>Low Level</td>\n",
       "    </tr>\n",
       "    <tr>\n",
       "      <th>3</th>\n",
       "      <td>8</td>\n",
       "      <td>318.0</td>\n",
       "      <td>150.0</td>\n",
       "      <td>3940.0</td>\n",
       "      <td>13.2</td>\n",
       "      <td>76</td>\n",
       "      <td>North America</td>\n",
       "      <td>13.0</td>\n",
       "      <td>Low Level</td>\n",
       "    </tr>\n",
       "    <tr>\n",
       "      <th>4</th>\n",
       "      <td>8</td>\n",
       "      <td>318.0</td>\n",
       "      <td>150.0</td>\n",
       "      <td>4237.0</td>\n",
       "      <td>14.5</td>\n",
       "      <td>73</td>\n",
       "      <td>North America</td>\n",
       "      <td>14.0</td>\n",
       "      <td>Low Level</td>\n",
       "    </tr>\n",
       "    <tr>\n",
       "      <th>...</th>\n",
       "      <td>...</td>\n",
       "      <td>...</td>\n",
       "      <td>...</td>\n",
       "      <td>...</td>\n",
       "      <td>...</td>\n",
       "      <td>...</td>\n",
       "      <td>...</td>\n",
       "      <td>...</td>\n",
       "      <td>...</td>\n",
       "    </tr>\n",
       "    <tr>\n",
       "      <th>393</th>\n",
       "      <td>3</td>\n",
       "      <td>70.0</td>\n",
       "      <td>97.0</td>\n",
       "      <td>2330.0</td>\n",
       "      <td>13.5</td>\n",
       "      <td>72</td>\n",
       "      <td>Asia</td>\n",
       "      <td>19.0</td>\n",
       "      <td>Low Level</td>\n",
       "    </tr>\n",
       "    <tr>\n",
       "      <th>394</th>\n",
       "      <td>8</td>\n",
       "      <td>350.0</td>\n",
       "      <td>180.0</td>\n",
       "      <td>4499.0</td>\n",
       "      <td>12.5</td>\n",
       "      <td>73</td>\n",
       "      <td>North America</td>\n",
       "      <td>12.0</td>\n",
       "      <td>Low Level</td>\n",
       "    </tr>\n",
       "    <tr>\n",
       "      <th>395</th>\n",
       "      <td>4</td>\n",
       "      <td>134.0</td>\n",
       "      <td>95.0</td>\n",
       "      <td>2515.0</td>\n",
       "      <td>14.8</td>\n",
       "      <td>78</td>\n",
       "      <td>Asia</td>\n",
       "      <td>21.1</td>\n",
       "      <td>Low Level</td>\n",
       "    </tr>\n",
       "    <tr>\n",
       "      <th>396</th>\n",
       "      <td>4</td>\n",
       "      <td>89.0</td>\n",
       "      <td>62.0</td>\n",
       "      <td>2050.0</td>\n",
       "      <td>17.3</td>\n",
       "      <td>81</td>\n",
       "      <td>Asia</td>\n",
       "      <td>37.7</td>\n",
       "      <td>High Level</td>\n",
       "    </tr>\n",
       "    <tr>\n",
       "      <th>397</th>\n",
       "      <td>4</td>\n",
       "      <td>97.0</td>\n",
       "      <td>46.0</td>\n",
       "      <td>1950.0</td>\n",
       "      <td>21.0</td>\n",
       "      <td>73</td>\n",
       "      <td>Europe</td>\n",
       "      <td>26.0</td>\n",
       "      <td>High Level</td>\n",
       "    </tr>\n",
       "  </tbody>\n",
       "</table>\n",
       "<p>398 rows × 9 columns</p>\n",
       "</div>"
      ],
      "text/plain": [
       "     Cylinders  Displacement  Horsepower  Weight  Acceleration  Model year  \\\n",
       "0            4          91.0        53.0  1795.0          17.4          76   \n",
       "1            4         120.0        79.0  2625.0          18.6          82   \n",
       "2            6         232.0       100.0  2634.0          13.0          71   \n",
       "3            8         318.0       150.0  3940.0          13.2          76   \n",
       "4            8         318.0       150.0  4237.0          14.5          73   \n",
       "..         ...           ...         ...     ...           ...         ...   \n",
       "393          3          70.0        97.0  2330.0          13.5          72   \n",
       "394          8         350.0       180.0  4499.0          12.5          73   \n",
       "395          4         134.0        95.0  2515.0          14.8          78   \n",
       "396          4          89.0        62.0  2050.0          17.3          81   \n",
       "397          4          97.0        46.0  1950.0          21.0          73   \n",
       "\n",
       "            Origin   MPG Binary Classes  \n",
       "0             Asia  33.0     High Level  \n",
       "1    North America  28.0     High Level  \n",
       "2    North America  19.0      Low Level  \n",
       "3    North America  13.0      Low Level  \n",
       "4    North America  14.0      Low Level  \n",
       "..             ...   ...            ...  \n",
       "393           Asia  19.0      Low Level  \n",
       "394  North America  12.0      Low Level  \n",
       "395           Asia  21.1      Low Level  \n",
       "396           Asia  37.7     High Level  \n",
       "397         Europe  26.0     High Level  \n",
       "\n",
       "[398 rows x 9 columns]"
      ]
     },
     "execution_count": 3,
     "metadata": {},
     "output_type": "execute_result"
    }
   ],
   "source": [
    "df1 = df.copy()\n",
    "np.random.seed(42)\n",
    "df1 = df1.reindex(np.random.permutation(df.index))\n",
    "df1.reset_index(inplace=True, drop=True)\n",
    "df1"
   ]
  },
  {
   "cell_type": "code",
   "execution_count": 4,
   "metadata": {},
   "outputs": [
    {
     "data": {
      "text/plain": [
       "(398, 9)"
      ]
     },
     "execution_count": 4,
     "metadata": {},
     "output_type": "execute_result"
    }
   ],
   "source": [
    "df1.shape"
   ]
  },
  {
   "cell_type": "code",
   "execution_count": 5,
   "metadata": {},
   "outputs": [
    {
     "data": {
      "text/html": [
       "<div>\n",
       "<style scoped>\n",
       "    .dataframe tbody tr th:only-of-type {\n",
       "        vertical-align: middle;\n",
       "    }\n",
       "\n",
       "    .dataframe tbody tr th {\n",
       "        vertical-align: top;\n",
       "    }\n",
       "\n",
       "    .dataframe thead th {\n",
       "        text-align: right;\n",
       "    }\n",
       "</style>\n",
       "<table border=\"1\" class=\"dataframe\">\n",
       "  <thead>\n",
       "    <tr style=\"text-align: right;\">\n",
       "      <th></th>\n",
       "      <th>Cylinders</th>\n",
       "      <th>Displacement</th>\n",
       "      <th>Horsepower</th>\n",
       "      <th>Weight</th>\n",
       "      <th>Acceleration</th>\n",
       "      <th>Model year</th>\n",
       "      <th>MPG</th>\n",
       "    </tr>\n",
       "  </thead>\n",
       "  <tbody>\n",
       "    <tr>\n",
       "      <th>count</th>\n",
       "      <td>398.000000</td>\n",
       "      <td>387.000000</td>\n",
       "      <td>389.000000</td>\n",
       "      <td>387.000000</td>\n",
       "      <td>388.000000</td>\n",
       "      <td>398.000000</td>\n",
       "      <td>398.000000</td>\n",
       "    </tr>\n",
       "    <tr>\n",
       "      <th>mean</th>\n",
       "      <td>5.454774</td>\n",
       "      <td>191.484496</td>\n",
       "      <td>104.066838</td>\n",
       "      <td>2972.041344</td>\n",
       "      <td>15.582474</td>\n",
       "      <td>76.010050</td>\n",
       "      <td>23.514573</td>\n",
       "    </tr>\n",
       "    <tr>\n",
       "      <th>std</th>\n",
       "      <td>1.701004</td>\n",
       "      <td>102.621600</td>\n",
       "      <td>38.171488</td>\n",
       "      <td>850.363046</td>\n",
       "      <td>2.755038</td>\n",
       "      <td>3.697627</td>\n",
       "      <td>7.815984</td>\n",
       "    </tr>\n",
       "    <tr>\n",
       "      <th>min</th>\n",
       "      <td>3.000000</td>\n",
       "      <td>68.000000</td>\n",
       "      <td>46.000000</td>\n",
       "      <td>1613.000000</td>\n",
       "      <td>8.000000</td>\n",
       "      <td>70.000000</td>\n",
       "      <td>9.000000</td>\n",
       "    </tr>\n",
       "    <tr>\n",
       "      <th>25%</th>\n",
       "      <td>4.000000</td>\n",
       "      <td>102.500000</td>\n",
       "      <td>75.000000</td>\n",
       "      <td>2221.500000</td>\n",
       "      <td>13.875000</td>\n",
       "      <td>73.000000</td>\n",
       "      <td>17.500000</td>\n",
       "    </tr>\n",
       "    <tr>\n",
       "      <th>50%</th>\n",
       "      <td>4.000000</td>\n",
       "      <td>146.000000</td>\n",
       "      <td>92.000000</td>\n",
       "      <td>2807.000000</td>\n",
       "      <td>15.500000</td>\n",
       "      <td>76.000000</td>\n",
       "      <td>23.000000</td>\n",
       "    </tr>\n",
       "    <tr>\n",
       "      <th>75%</th>\n",
       "      <td>8.000000</td>\n",
       "      <td>260.000000</td>\n",
       "      <td>125.000000</td>\n",
       "      <td>3607.000000</td>\n",
       "      <td>17.200000</td>\n",
       "      <td>79.000000</td>\n",
       "      <td>29.000000</td>\n",
       "    </tr>\n",
       "    <tr>\n",
       "      <th>max</th>\n",
       "      <td>8.000000</td>\n",
       "      <td>455.000000</td>\n",
       "      <td>230.000000</td>\n",
       "      <td>5140.000000</td>\n",
       "      <td>24.800000</td>\n",
       "      <td>82.000000</td>\n",
       "      <td>46.600000</td>\n",
       "    </tr>\n",
       "  </tbody>\n",
       "</table>\n",
       "</div>"
      ],
      "text/plain": [
       "        Cylinders  Displacement  Horsepower       Weight  Acceleration  \\\n",
       "count  398.000000    387.000000  389.000000   387.000000    388.000000   \n",
       "mean     5.454774    191.484496  104.066838  2972.041344     15.582474   \n",
       "std      1.701004    102.621600   38.171488   850.363046      2.755038   \n",
       "min      3.000000     68.000000   46.000000  1613.000000      8.000000   \n",
       "25%      4.000000    102.500000   75.000000  2221.500000     13.875000   \n",
       "50%      4.000000    146.000000   92.000000  2807.000000     15.500000   \n",
       "75%      8.000000    260.000000  125.000000  3607.000000     17.200000   \n",
       "max      8.000000    455.000000  230.000000  5140.000000     24.800000   \n",
       "\n",
       "       Model year         MPG  \n",
       "count  398.000000  398.000000  \n",
       "mean    76.010050   23.514573  \n",
       "std      3.697627    7.815984  \n",
       "min     70.000000    9.000000  \n",
       "25%     73.000000   17.500000  \n",
       "50%     76.000000   23.000000  \n",
       "75%     79.000000   29.000000  \n",
       "max     82.000000   46.600000  "
      ]
     },
     "execution_count": 5,
     "metadata": {},
     "output_type": "execute_result"
    }
   ],
   "source": [
    "df1.describe()"
   ]
  },
  {
   "cell_type": "code",
   "execution_count": 6,
   "metadata": {},
   "outputs": [
    {
     "name": "stdout",
     "output_type": "stream",
     "text": [
      "<class 'pandas.core.frame.DataFrame'>\n",
      "RangeIndex: 398 entries, 0 to 397\n",
      "Data columns (total 9 columns):\n",
      " #   Column          Non-Null Count  Dtype  \n",
      "---  ------          --------------  -----  \n",
      " 0   Cylinders       398 non-null    int64  \n",
      " 1   Displacement    387 non-null    float64\n",
      " 2   Horsepower      389 non-null    float64\n",
      " 3   Weight          387 non-null    float64\n",
      " 4   Acceleration    388 non-null    float64\n",
      " 5   Model year      398 non-null    int64  \n",
      " 6   Origin          398 non-null    object \n",
      " 7   MPG             398 non-null    float64\n",
      " 8   Binary Classes  398 non-null    object \n",
      "dtypes: float64(5), int64(2), object(2)\n",
      "memory usage: 28.1+ KB\n"
     ]
    }
   ],
   "source": [
    "df1.info()"
   ]
  },
  {
   "cell_type": "markdown",
   "metadata": {},
   "source": [
    "### Missing value imputation"
   ]
  },
  {
   "cell_type": "code",
   "execution_count": 7,
   "metadata": {},
   "outputs": [
    {
     "name": "stdout",
     "output_type": "stream",
     "text": [
      "['Cylinders', 'Displacement', 'Horsepower', 'Weight', 'Acceleration', 'Model year', 'Origin', 'MPG', 'Binary Classes']\n"
     ]
    },
    {
     "data": {
      "text/plain": [
       "Cylinders          0\n",
       "Displacement      11\n",
       "Horsepower         9\n",
       "Weight            11\n",
       "Acceleration      10\n",
       "Model year         0\n",
       "Origin             0\n",
       "MPG                0\n",
       "Binary Classes     0\n",
       "dtype: int64"
      ]
     },
     "execution_count": 7,
     "metadata": {},
     "output_type": "execute_result"
    }
   ],
   "source": [
    "column = list(df.columns)\n",
    "print(column)\n",
    "df1.isnull().sum()"
   ]
  },
  {
   "cell_type": "code",
   "execution_count": 8,
   "metadata": {},
   "outputs": [
    {
     "data": {
      "text/html": [
       "<div>\n",
       "<style scoped>\n",
       "    .dataframe tbody tr th:only-of-type {\n",
       "        vertical-align: middle;\n",
       "    }\n",
       "\n",
       "    .dataframe tbody tr th {\n",
       "        vertical-align: top;\n",
       "    }\n",
       "\n",
       "    .dataframe thead th {\n",
       "        text-align: right;\n",
       "    }\n",
       "</style>\n",
       "<table border=\"1\" class=\"dataframe\">\n",
       "  <thead>\n",
       "    <tr style=\"text-align: right;\">\n",
       "      <th></th>\n",
       "      <th>Cylinders</th>\n",
       "      <th>Displacement</th>\n",
       "      <th>Horsepower</th>\n",
       "      <th>Weight</th>\n",
       "      <th>Acceleration</th>\n",
       "      <th>Model year</th>\n",
       "      <th>Origin</th>\n",
       "      <th>MPG</th>\n",
       "      <th>Binary Classes</th>\n",
       "    </tr>\n",
       "  </thead>\n",
       "  <tbody>\n",
       "    <tr>\n",
       "      <th>0</th>\n",
       "      <td>8</td>\n",
       "      <td>307.0</td>\n",
       "      <td>130.0</td>\n",
       "      <td>3504.0</td>\n",
       "      <td>12.0</td>\n",
       "      <td>70</td>\n",
       "      <td>North America</td>\n",
       "      <td>18.0</td>\n",
       "      <td>Low Level</td>\n",
       "    </tr>\n",
       "    <tr>\n",
       "      <th>1</th>\n",
       "      <td>8</td>\n",
       "      <td>350.0</td>\n",
       "      <td>165.0</td>\n",
       "      <td>3693.0</td>\n",
       "      <td>11.5</td>\n",
       "      <td>70</td>\n",
       "      <td>North America</td>\n",
       "      <td>15.0</td>\n",
       "      <td>Low Level</td>\n",
       "    </tr>\n",
       "    <tr>\n",
       "      <th>2</th>\n",
       "      <td>8</td>\n",
       "      <td>318.0</td>\n",
       "      <td>150.0</td>\n",
       "      <td>3436.0</td>\n",
       "      <td>11.0</td>\n",
       "      <td>70</td>\n",
       "      <td>North America</td>\n",
       "      <td>18.0</td>\n",
       "      <td>Low Level</td>\n",
       "    </tr>\n",
       "    <tr>\n",
       "      <th>3</th>\n",
       "      <td>8</td>\n",
       "      <td>304.0</td>\n",
       "      <td>150.0</td>\n",
       "      <td>3433.0</td>\n",
       "      <td>12.0</td>\n",
       "      <td>70</td>\n",
       "      <td>North America</td>\n",
       "      <td>16.0</td>\n",
       "      <td>Low Level</td>\n",
       "    </tr>\n",
       "    <tr>\n",
       "      <th>4</th>\n",
       "      <td>8</td>\n",
       "      <td>302.0</td>\n",
       "      <td>140.0</td>\n",
       "      <td>3449.0</td>\n",
       "      <td>15.5</td>\n",
       "      <td>70</td>\n",
       "      <td>North America</td>\n",
       "      <td>17.0</td>\n",
       "      <td>Low Level</td>\n",
       "    </tr>\n",
       "    <tr>\n",
       "      <th>5</th>\n",
       "      <td>8</td>\n",
       "      <td>429.0</td>\n",
       "      <td>198.0</td>\n",
       "      <td>4341.0</td>\n",
       "      <td>10.0</td>\n",
       "      <td>70</td>\n",
       "      <td>North America</td>\n",
       "      <td>15.0</td>\n",
       "      <td>Low Level</td>\n",
       "    </tr>\n",
       "    <tr>\n",
       "      <th>6</th>\n",
       "      <td>8</td>\n",
       "      <td>454.0</td>\n",
       "      <td>220.0</td>\n",
       "      <td>4354.0</td>\n",
       "      <td>9.0</td>\n",
       "      <td>70</td>\n",
       "      <td>North America</td>\n",
       "      <td>14.0</td>\n",
       "      <td>Low Level</td>\n",
       "    </tr>\n",
       "    <tr>\n",
       "      <th>7</th>\n",
       "      <td>8</td>\n",
       "      <td>440.0</td>\n",
       "      <td>92.0</td>\n",
       "      <td>4312.0</td>\n",
       "      <td>8.5</td>\n",
       "      <td>70</td>\n",
       "      <td>North America</td>\n",
       "      <td>14.0</td>\n",
       "      <td>Low Level</td>\n",
       "    </tr>\n",
       "    <tr>\n",
       "      <th>8</th>\n",
       "      <td>8</td>\n",
       "      <td>455.0</td>\n",
       "      <td>225.0</td>\n",
       "      <td>4425.0</td>\n",
       "      <td>10.0</td>\n",
       "      <td>70</td>\n",
       "      <td>North America</td>\n",
       "      <td>14.0</td>\n",
       "      <td>Low Level</td>\n",
       "    </tr>\n",
       "    <tr>\n",
       "      <th>9</th>\n",
       "      <td>8</td>\n",
       "      <td>146.0</td>\n",
       "      <td>190.0</td>\n",
       "      <td>3850.0</td>\n",
       "      <td>8.5</td>\n",
       "      <td>70</td>\n",
       "      <td>North America</td>\n",
       "      <td>15.0</td>\n",
       "      <td>Low Level</td>\n",
       "    </tr>\n",
       "  </tbody>\n",
       "</table>\n",
       "</div>"
      ],
      "text/plain": [
       "   Cylinders  Displacement  Horsepower  Weight  Acceleration  Model year  \\\n",
       "0          8         307.0       130.0  3504.0          12.0          70   \n",
       "1          8         350.0       165.0  3693.0          11.5          70   \n",
       "2          8         318.0       150.0  3436.0          11.0          70   \n",
       "3          8         304.0       150.0  3433.0          12.0          70   \n",
       "4          8         302.0       140.0  3449.0          15.5          70   \n",
       "5          8         429.0       198.0  4341.0          10.0          70   \n",
       "6          8         454.0       220.0  4354.0           9.0          70   \n",
       "7          8         440.0        92.0  4312.0           8.5          70   \n",
       "8          8         455.0       225.0  4425.0          10.0          70   \n",
       "9          8         146.0       190.0  3850.0           8.5          70   \n",
       "\n",
       "          Origin   MPG Binary Classes  \n",
       "0  North America  18.0      Low Level  \n",
       "1  North America  15.0      Low Level  \n",
       "2  North America  18.0      Low Level  \n",
       "3  North America  16.0      Low Level  \n",
       "4  North America  17.0      Low Level  \n",
       "5  North America  15.0      Low Level  \n",
       "6  North America  14.0      Low Level  \n",
       "7  North America  14.0      Low Level  \n",
       "8  North America  14.0      Low Level  \n",
       "9  North America  15.0      Low Level  "
      ]
     },
     "execution_count": 8,
     "metadata": {},
     "output_type": "execute_result"
    }
   ],
   "source": [
    "df_im = df.copy()\n",
    "select_column = column[1:5]\n",
    "for i in range (len(select_column)):\n",
    "    x= df[select_column[i]].median()\n",
    "    df_im[select_column[i]] = df_im[select_column[i]].fillna(x)\n",
    "df_im[0:10]"
   ]
  },
  {
   "cell_type": "code",
   "execution_count": 9,
   "metadata": {},
   "outputs": [
    {
     "data": {
      "text/plain": [
       "Cylinders         0\n",
       "Displacement      0\n",
       "Horsepower        0\n",
       "Weight            0\n",
       "Acceleration      0\n",
       "Model year        0\n",
       "Origin            0\n",
       "MPG               0\n",
       "Binary Classes    0\n",
       "dtype: int64"
      ]
     },
     "execution_count": 9,
     "metadata": {},
     "output_type": "execute_result"
    }
   ],
   "source": [
    "df_im.isnull().sum()"
   ]
  },
  {
   "cell_type": "markdown",
   "metadata": {},
   "source": [
    "## Data Exploration"
   ]
  },
  {
   "cell_type": "markdown",
   "metadata": {},
   "source": [
    "<b><font size = \"4\">Univariate Analysis</font></b>"
   ]
  },
  {
   "cell_type": "code",
   "execution_count": 10,
   "metadata": {},
   "outputs": [
    {
     "data": {
      "text/plain": [
       "<matplotlib.axes._subplots.AxesSubplot at 0xc312488>"
      ]
     },
     "execution_count": 10,
     "metadata": {},
     "output_type": "execute_result"
    },
    {
     "data": {
      "image/png": "[encoded data removed]",
      "text/plain": [
       "<Figure size 1440x1080 with 6 Axes>"
      ]
     },
     "metadata": {
      "needs_background": "light"
     },
     "output_type": "display_data"
    }
   ],
   "source": [
    "#Lets plot univariate distribution of all the numeric variables\n",
    "fig, axes = plt.subplots(2, 3, figsize=(20, 15))\n",
    "sns.distplot(df_im['Cylinders'], kde=False,ax=axes[0,0])\n",
    "sns.distplot(df_im['Displacement'], kde=True,ax=axes[0,1])\n",
    "sns.distplot(df_im['Horsepower'], kde=True,ax=axes[0,2])\n",
    "sns.distplot(df_im['Weight'], kde=True,ax=axes[1,0])\n",
    "sns.distplot(df_im['Acceleration'], kde=True,ax=axes[1,1])\n",
    "sns.distplot(df_im['MPG'], kde=True,ax=axes[1,2])"
   ]
  },
  {
   "cell_type": "code",
   "execution_count": 11,
   "metadata": {},
   "outputs": [
    {
     "name": "stdout",
     "output_type": "stream",
     "text": [
      "North America    249\n",
      "Asia              79\n",
      "Europe            70\n",
      "Name: Origin, dtype: int64 \n",
      "\n",
      "Low Level     207\n",
      "High Level    191\n",
      "Name: Binary Classes, dtype: int64 \n",
      "\n"
     ]
    }
   ],
   "source": [
    "print(df_im['Origin'].value_counts(),\"\\n\")\n",
    "print(df_im['Binary Classes'].value_counts(),\"\\n\")"
   ]
  },
  {
   "cell_type": "code",
   "execution_count": 12,
   "metadata": {},
   "outputs": [
    {
     "data": {
      "text/plain": [
       "(array([  0.,  25.,  50.,  75., 100., 125., 150., 175., 200., 225.]),\n",
       " <a list of 10 Text yticklabel objects>)"
      ]
     },
     "execution_count": 12,
     "metadata": {},
     "output_type": "execute_result"
    },
    {
     "data": {
      "image/png": "[encoded data removed]",
      "text/plain": [
       "<Figure size 360x360 with 1 Axes>"
      ]
     },
     "metadata": {
      "needs_background": "light"
     },
     "output_type": "display_data"
    },
    {
     "data": {
      "image/png": "[encoded data removed]",
      "text/plain": [
       "<Figure size 360x360 with 1 Axes>"
      ]
     },
     "metadata": {
      "needs_background": "light"
     },
     "output_type": "display_data"
    }
   ],
   "source": [
    "sns.catplot(data=df_im, x='Origin',kind=\"count\")\n",
    "plt.xlabel(\"Origin\",fontsize=15)\n",
    "plt.ylabel('count',fontsize=15)\n",
    "plt.xticks(fontsize=10)\n",
    "plt.yticks(fontsize=10)\n",
    "\n",
    "sns.catplot(data=df_im, x='Binary Classes',kind=\"count\")\n",
    "plt.xlabel(\"Binary Classes\",fontsize=15)\n",
    "plt.ylabel('count',fontsize=15)\n",
    "plt.xticks(fontsize=10)\n",
    "plt.yticks(fontsize=10)"
   ]
  },
  {
   "cell_type": "code",
   "execution_count": 13,
   "metadata": {},
   "outputs": [
    {
     "data": {
      "text/plain": [
       "<matplotlib.axes._subplots.AxesSubplot at 0xc8830c8>"
      ]
     },
     "execution_count": 13,
     "metadata": {},
     "output_type": "execute_result"
    },
    {
     "data": {
      "image/png": "[encoded data removed]",
      "text/plain": [
       "<Figure size 1008x864 with 9 Axes>"
      ]
     },
     "metadata": {
      "needs_background": "light"
     },
     "output_type": "display_data"
    }
   ],
   "source": [
    "fig, axes = plt.subplots(3, 3, figsize=(14, 12))\n",
    "\n",
    "fig.suptitle('BoxPlot')\n",
    "\n",
    "\n",
    "sns.boxplot(ax=axes[0, 0], data=df_im, y='Cylinders')\n",
    "sns.boxplot(ax=axes[0, 1], data=df_im, y='Displacement')\n",
    "sns.boxplot(ax=axes[0, 2], data=df_im, y='Horsepower')\n",
    "sns.boxplot(ax=axes[1, 0], data=df_im, y='Weight')\n",
    "sns.boxplot(ax=axes[1, 1], data=df_im, y='Acceleration')\n",
    "sns.boxplot(ax=axes[1, 2], data=df_im, y='Model year')\n",
    "sns.boxplot(ax=axes[2, 0], data=df_im, y='MPG')\n"
   ]
  },
  {
   "cell_type": "code",
   "execution_count": 14,
   "metadata": {},
   "outputs": [
    {
     "data": {
      "text/plain": [
       "array(['Low Level', 'High Level'], dtype=object)"
      ]
     },
     "execution_count": 14,
     "metadata": {},
     "output_type": "execute_result"
    }
   ],
   "source": [
    "df_im['Binary Classes'].unique()"
   ]
  },
  {
   "cell_type": "markdown",
   "metadata": {},
   "source": [
    "<b><font size = \"4\">Bivariate Analysis</font></b>"
   ]
  },
  {
   "cell_type": "code",
   "execution_count": 15,
   "metadata": {},
   "outputs": [
    {
     "name": "stdout",
     "output_type": "stream",
     "text": [
      "1)Total: 398 \n",
      " North America    249\n",
      "Asia              79\n",
      "Europe            70\n",
      "Name: Origin, dtype: int64 \n",
      "\n",
      "2)table of joint proportion\n",
      " Origin          Asia  Europe  North America\n",
      "Binary Classes                             \n",
      "High Level        69      53             69\n",
      "Low Level         10      17            180 \n",
      "\n",
      "3)conditional probability conditioned on columns \n",
      " Origin              Asia    Europe  North America\n",
      "Binary Classes                                   \n",
      "High Level      0.873418  0.757143       0.277108\n",
      "Low Level       0.126582  0.242857       0.722892 \n",
      "\n",
      "4)conditional probability conditioned on rows \n",
      " Origin              Asia    Europe  North America\n",
      "Binary Classes                                   \n",
      "High Level      0.361257  0.277487       0.361257\n",
      "Low Level       0.048309  0.082126       0.869565\n"
     ]
    }
   ],
   "source": [
    "print('1)Total:',df_im['Origin'].count(),'\\n',df_im['Origin'].value_counts(),'\\n')\n",
    "table = pd.crosstab(df_im['Binary Classes'],columns= df_im.Origin)\n",
    "print('2)table of joint proportion\\n',table,'\\n')\n",
    "coltotal = table.sum(axis = 0)\n",
    "print('3)conditional probability conditioned on columns \\n',table.div(coltotal,axis = 1),'\\n')\n",
    "rowtotal = table.sum(axis=1)\n",
    "print('4)conditional probability conditioned on rows \\n',table.div(rowtotal,axis = 0))"
   ]
  },
  {
   "cell_type": "code",
   "execution_count": 16,
   "metadata": {},
   "outputs": [
    {
     "data": {
      "text/plain": [
       "<matplotlib.axes._subplots.AxesSubplot at 0xd353e88>"
      ]
     },
     "execution_count": 16,
     "metadata": {},
     "output_type": "execute_result"
    },
    {
     "data": {
      "image/png": "[encoded data removed]",
      "text/plain": [
       "<Figure size 720x360 with 2 Axes>"
      ]
     },
     "metadata": {
      "needs_background": "light"
     },
     "output_type": "display_data"
    }
   ],
   "source": [
    "fig, (ax1, ax2) = plt.subplots(1, 2,figsize=(10,5))\n",
    "sns.countplot('Origin',data=df_im,ax=ax1)\n",
    "ct=pd.crosstab(df_im['Origin'],df_im['Binary Classes'], normalize='index')\n",
    "ct.plot.bar(stacked=True,ax= ax2)"
   ]
  },
  {
   "cell_type": "code",
   "execution_count": 17,
   "metadata": {},
   "outputs": [
    {
     "data": {
      "text/plain": [
       "<matplotlib.axes._subplots.AxesSubplot at 0xdbcb308>"
      ]
     },
     "execution_count": 17,
     "metadata": {},
     "output_type": "execute_result"
    },
    {
     "data": {
      "image/png": "[encoded data removed]",
      "text/plain": [
       "<Figure size 720x360 with 2 Axes>"
      ]
     },
     "metadata": {
      "needs_background": "light"
     },
     "output_type": "display_data"
    }
   ],
   "source": [
    "fig, (ax1, ax2) = plt.subplots(1, 2,figsize=(10,5))\n",
    "sns.countplot('Cylinders',data=df_im,ax=ax1)\n",
    "ct=pd.crosstab(df_im['Cylinders'],df_im['Binary Classes'], normalize='index')\n",
    "ct.plot.bar(stacked=True,ax= ax2)"
   ]
  },
  {
   "cell_type": "markdown",
   "metadata": {},
   "source": [
    "### Lets find Correlation amoung the variables !!"
   ]
  },
  {
   "cell_type": "code",
   "execution_count": 18,
   "metadata": {},
   "outputs": [
    {
     "data": {
      "image/png": "[encoded data removed]",
      "text/plain": [
       "<Figure size 936x936 with 2 Axes>"
      ]
     },
     "metadata": {
      "needs_background": "light"
     },
     "output_type": "display_data"
    },
    {
     "data": {
      "text/plain": [
       "{'corr':                 Cylinders  Displacement  Horsepower    Weight  Acceleration  \\\n",
       " Cylinders        1.000000      0.921426    0.833614  0.885094     -0.489056   \n",
       " Displacement     0.921426      1.000000    0.836048  0.881379     -0.491769   \n",
       " Horsepower       0.833614      0.836048    1.000000  0.850951     -0.660924   \n",
       " Weight           0.885094      0.881379    0.850951  1.000000     -0.394872   \n",
       " Acceleration    -0.489056     -0.491769   -0.660924 -0.394872      1.000000   \n",
       " Model year      -0.348746     -0.345305   -0.409105 -0.304950      0.277801   \n",
       " Origin           0.604435      0.641164    0.481148  0.590666      0.250076   \n",
       " MPG             -0.775396     -0.779852   -0.770774 -0.823303      0.407154   \n",
       " Binary Classes   0.736711      0.720846    0.640805  0.734687      0.303491   \n",
       " \n",
       "                 Model year    Origin       MPG  Binary Classes  \n",
       " Cylinders        -0.348746  0.604435 -0.775396        0.736711  \n",
       " Displacement     -0.345305  0.641164 -0.779852        0.720846  \n",
       " Horsepower       -0.409105  0.481148 -0.770774        0.640805  \n",
       " Weight           -0.304950  0.590666 -0.823303        0.734687  \n",
       " Acceleration      0.277801  0.250076  0.407154        0.303491  \n",
       " Model year        1.000000  0.194181  0.579267        0.448150  \n",
       " Origin            0.194181  1.000000  0.576944        0.525406  \n",
       " MPG               0.579267  0.576944  1.000000        0.837419  \n",
       " Binary Classes    0.448150  0.525406  0.837419        1.000000  ,\n",
       " 'ax': <matplotlib.axes._subplots.AxesSubplot at 0xcb6c348>}"
      ]
     },
     "execution_count": 18,
     "metadata": {},
     "output_type": "execute_result"
    }
   ],
   "source": [
    "from dython import nominal\n",
    "nominal.associations(df_im[['Cylinders', 'Displacement', 'Horsepower', 'Weight', 'Acceleration', 'Model year', 'Origin', 'MPG', 'Binary Classes']],figsize=(13,13))"
   ]
  },
  {
   "cell_type": "code",
   "execution_count": 19,
   "metadata": {},
   "outputs": [],
   "source": [
    "df_im['Origin']=df_im['Origin'].replace('Asia', 0) #Replace Asia with 0\n",
    "df_im['Origin']=df_im['Origin'].replace('North America',1 )#Replace North America with 1\n",
    "df_im['Origin']=df_im['Origin'].replace('Europe',2 )# Replace Europe with 2\n",
    "df_im\n",
    "corr_matrix= df_im.corr()\n",
    "corr_matrix\n",
    "corr_matrix[\"MPG\"].sort_values(ascending=False)\n",
    "def corr_bar(df):\n",
    "#\"\"\"Plot correlation bar with the pair of atrribute with lastcolumn\"\"\"\n",
    "    corr=df_im.corr()\n",
    "    Colms_sh=list(list(corr.columns))\n",
    "    coefs=corr.values[:,-1][:-1]\n",
    "    names=Colms_sh[:-1]\n",
    "    r_ = pd.DataFrame( { 'coef': coefs, 'positive': coefs>=0 },\n",
    "    index = names )\n",
    "    r_ = r_.sort_values(by=['coef'])\n",
    "    r_['coef'].plot(kind='barh', color=r_['positive'].map({True:\n",
    "    'b', False: 'r'}))\n",
    "    plt.xlabel('Correlation Coefficient',fontsize=6)\n",
    "    plt.vlines(x=0,ymin=-0.5, ymax=10, color = 'k',linewidth=0.8,\n",
    "    linestyle=\"dashed\")\n",
    "    plt.show()"
   ]
  },
  {
   "cell_type": "code",
   "execution_count": 20,
   "metadata": {},
   "outputs": [
    {
     "data": {
      "image/png": "[encoded data removed]",
      "text/plain": [
       "<Figure size 560x600 with 1 Axes>"
      ]
     },
     "metadata": {},
     "output_type": "display_data"
    }
   ],
   "source": [
    "font = {'size' : 5}\n",
    "matplotlib.rc('font', **font)\n",
    "ax1 = plt.subplots(figsize=(2.8, 3), dpi= 200, facecolor='w', edgecolor='k')\n",
    "# Plot correlations of attributes with the last column\n",
    "corr_bar(df_im)"
   ]
  },
  {
   "cell_type": "markdown",
   "metadata": {},
   "source": [
    "### Outlier Detection and Removal"
   ]
  },
  {
   "cell_type": "code",
   "execution_count": 21,
   "metadata": {},
   "outputs": [
    {
     "data": {
      "text/plain": [
       "391"
      ]
     },
     "execution_count": 21,
     "metadata": {},
     "output_type": "execute_result"
    }
   ],
   "source": [
    "n=2.5\n",
    "mean = df_im['Acceleration'].mean()\n",
    "sd=df_im['Acceleration'].std()\n",
    "drop_r = df_im.index[(mean -n * sd> df_im['Acceleration']) | (mean +n * sd< df_im['Acceleration'])]\n",
    "df_im.drop(drop_r , axis=0 , inplace= True)\n",
    "len(df_im['Binary Classes'])"
   ]
  },
  {
   "cell_type": "code",
   "execution_count": 22,
   "metadata": {},
   "outputs": [
    {
     "data": {
      "text/plain": [
       "379"
      ]
     },
     "execution_count": 22,
     "metadata": {},
     "output_type": "execute_result"
    }
   ],
   "source": [
    "n=2.5\n",
    "mean = df_im['Horsepower'].mean()\n",
    "sd=df_im['Horsepower'].std()\n",
    "drop_r = df_im.index[(mean -n * sd> df_im['Horsepower']) | (mean +n * sd< df_im['Horsepower'])]\n",
    "df_im.drop(drop_r , axis=0 , inplace= True)\n",
    "len(df_im['Binary Classes'])"
   ]
  },
  {
   "cell_type": "code",
   "execution_count": 23,
   "metadata": {},
   "outputs": [
    {
     "data": {
      "text/plain": [
       "(379, 9)"
      ]
     },
     "execution_count": 23,
     "metadata": {},
     "output_type": "execute_result"
    }
   ],
   "source": [
    "df_im.shape"
   ]
  },
  {
   "cell_type": "code",
   "execution_count": 24,
   "metadata": {},
   "outputs": [
    {
     "name": "stdout",
     "output_type": "stream",
     "text": [
      "Cylinders          4.000\n",
      "Displacement     157.500\n",
      "Horsepower        50.000\n",
      "Weight          1385.500\n",
      "Acceleration       3.325\n",
      "Model year         6.000\n",
      "MPG               11.500\n",
      "dtype: float64\n",
      "(379, 9)\n"
     ]
    }
   ],
   "source": [
    "# verify using IQR \n",
    "\n",
    "Q1 = df1.quantile(0.25)\n",
    "Q3 = df1.quantile(0.75)\n",
    "IQR = Q3 - Q1\n",
    "print(IQR)\n",
    "data_o1 = df1[~((df1 < (Q1 - 1.5 * IQR)) |(df1 > (Q3 + 1.5 * IQR))).any(axis=1)]\n",
    "print(data_o1.shape)"
   ]
  },
  {
   "cell_type": "code",
   "execution_count": 25,
   "metadata": {},
   "outputs": [
    {
     "data": {
      "text/html": [
       "<div>\n",
       "<style scoped>\n",
       "    .dataframe tbody tr th:only-of-type {\n",
       "        vertical-align: middle;\n",
       "    }\n",
       "\n",
       "    .dataframe tbody tr th {\n",
       "        vertical-align: top;\n",
       "    }\n",
       "\n",
       "    .dataframe thead th {\n",
       "        text-align: right;\n",
       "    }\n",
       "</style>\n",
       "<table border=\"1\" class=\"dataframe\">\n",
       "  <thead>\n",
       "    <tr style=\"text-align: right;\">\n",
       "      <th></th>\n",
       "      <th>Cylinders</th>\n",
       "      <th>Displacement</th>\n",
       "      <th>Horsepower</th>\n",
       "      <th>Weight</th>\n",
       "      <th>Acceleration</th>\n",
       "      <th>Model year</th>\n",
       "      <th>Origin</th>\n",
       "      <th>MPG</th>\n",
       "      <th>Binary Classes</th>\n",
       "    </tr>\n",
       "  </thead>\n",
       "  <tbody>\n",
       "    <tr>\n",
       "      <th>0</th>\n",
       "      <td>4</td>\n",
       "      <td>91.0</td>\n",
       "      <td>53.0</td>\n",
       "      <td>1795.0</td>\n",
       "      <td>17.4</td>\n",
       "      <td>76</td>\n",
       "      <td>Asia</td>\n",
       "      <td>33.0</td>\n",
       "      <td>High Level</td>\n",
       "    </tr>\n",
       "    <tr>\n",
       "      <th>1</th>\n",
       "      <td>4</td>\n",
       "      <td>120.0</td>\n",
       "      <td>79.0</td>\n",
       "      <td>2625.0</td>\n",
       "      <td>18.6</td>\n",
       "      <td>82</td>\n",
       "      <td>North America</td>\n",
       "      <td>28.0</td>\n",
       "      <td>High Level</td>\n",
       "    </tr>\n",
       "    <tr>\n",
       "      <th>2</th>\n",
       "      <td>6</td>\n",
       "      <td>232.0</td>\n",
       "      <td>100.0</td>\n",
       "      <td>2634.0</td>\n",
       "      <td>13.0</td>\n",
       "      <td>71</td>\n",
       "      <td>North America</td>\n",
       "      <td>19.0</td>\n",
       "      <td>Low Level</td>\n",
       "    </tr>\n",
       "    <tr>\n",
       "      <th>3</th>\n",
       "      <td>8</td>\n",
       "      <td>318.0</td>\n",
       "      <td>150.0</td>\n",
       "      <td>3940.0</td>\n",
       "      <td>13.2</td>\n",
       "      <td>76</td>\n",
       "      <td>North America</td>\n",
       "      <td>13.0</td>\n",
       "      <td>Low Level</td>\n",
       "    </tr>\n",
       "    <tr>\n",
       "      <th>4</th>\n",
       "      <td>8</td>\n",
       "      <td>318.0</td>\n",
       "      <td>150.0</td>\n",
       "      <td>4237.0</td>\n",
       "      <td>14.5</td>\n",
       "      <td>73</td>\n",
       "      <td>North America</td>\n",
       "      <td>14.0</td>\n",
       "      <td>Low Level</td>\n",
       "    </tr>\n",
       "    <tr>\n",
       "      <th>...</th>\n",
       "      <td>...</td>\n",
       "      <td>...</td>\n",
       "      <td>...</td>\n",
       "      <td>...</td>\n",
       "      <td>...</td>\n",
       "      <td>...</td>\n",
       "      <td>...</td>\n",
       "      <td>...</td>\n",
       "      <td>...</td>\n",
       "    </tr>\n",
       "    <tr>\n",
       "      <th>393</th>\n",
       "      <td>3</td>\n",
       "      <td>70.0</td>\n",
       "      <td>97.0</td>\n",
       "      <td>2330.0</td>\n",
       "      <td>13.5</td>\n",
       "      <td>72</td>\n",
       "      <td>Asia</td>\n",
       "      <td>19.0</td>\n",
       "      <td>Low Level</td>\n",
       "    </tr>\n",
       "    <tr>\n",
       "      <th>394</th>\n",
       "      <td>8</td>\n",
       "      <td>350.0</td>\n",
       "      <td>180.0</td>\n",
       "      <td>4499.0</td>\n",
       "      <td>12.5</td>\n",
       "      <td>73</td>\n",
       "      <td>North America</td>\n",
       "      <td>12.0</td>\n",
       "      <td>Low Level</td>\n",
       "    </tr>\n",
       "    <tr>\n",
       "      <th>395</th>\n",
       "      <td>4</td>\n",
       "      <td>134.0</td>\n",
       "      <td>95.0</td>\n",
       "      <td>2515.0</td>\n",
       "      <td>14.8</td>\n",
       "      <td>78</td>\n",
       "      <td>Asia</td>\n",
       "      <td>21.1</td>\n",
       "      <td>Low Level</td>\n",
       "    </tr>\n",
       "    <tr>\n",
       "      <th>396</th>\n",
       "      <td>4</td>\n",
       "      <td>89.0</td>\n",
       "      <td>62.0</td>\n",
       "      <td>2050.0</td>\n",
       "      <td>17.3</td>\n",
       "      <td>81</td>\n",
       "      <td>Asia</td>\n",
       "      <td>37.7</td>\n",
       "      <td>High Level</td>\n",
       "    </tr>\n",
       "    <tr>\n",
       "      <th>397</th>\n",
       "      <td>4</td>\n",
       "      <td>97.0</td>\n",
       "      <td>46.0</td>\n",
       "      <td>1950.0</td>\n",
       "      <td>21.0</td>\n",
       "      <td>73</td>\n",
       "      <td>Europe</td>\n",
       "      <td>26.0</td>\n",
       "      <td>High Level</td>\n",
       "    </tr>\n",
       "  </tbody>\n",
       "</table>\n",
       "<p>379 rows × 9 columns</p>\n",
       "</div>"
      ],
      "text/plain": [
       "     Cylinders  Displacement  Horsepower  Weight  Acceleration  Model year  \\\n",
       "0            4          91.0        53.0  1795.0          17.4          76   \n",
       "1            4         120.0        79.0  2625.0          18.6          82   \n",
       "2            6         232.0       100.0  2634.0          13.0          71   \n",
       "3            8         318.0       150.0  3940.0          13.2          76   \n",
       "4            8         318.0       150.0  4237.0          14.5          73   \n",
       "..         ...           ...         ...     ...           ...         ...   \n",
       "393          3          70.0        97.0  2330.0          13.5          72   \n",
       "394          8         350.0       180.0  4499.0          12.5          73   \n",
       "395          4         134.0        95.0  2515.0          14.8          78   \n",
       "396          4          89.0        62.0  2050.0          17.3          81   \n",
       "397          4          97.0        46.0  1950.0          21.0          73   \n",
       "\n",
       "            Origin   MPG Binary Classes  \n",
       "0             Asia  33.0     High Level  \n",
       "1    North America  28.0     High Level  \n",
       "2    North America  19.0      Low Level  \n",
       "3    North America  13.0      Low Level  \n",
       "4    North America  14.0      Low Level  \n",
       "..             ...   ...            ...  \n",
       "393           Asia  19.0      Low Level  \n",
       "394  North America  12.0      Low Level  \n",
       "395           Asia  21.1      Low Level  \n",
       "396           Asia  37.7     High Level  \n",
       "397         Europe  26.0     High Level  \n",
       "\n",
       "[379 rows x 9 columns]"
      ]
     },
     "execution_count": 25,
     "metadata": {},
     "output_type": "execute_result"
    }
   ],
   "source": [
    "data_o1 # cleaned data set"
   ]
  },
  {
   "cell_type": "markdown",
   "metadata": {},
   "source": [
    "### Hot Encoding & Standardization"
   ]
  },
  {
   "cell_type": "code",
   "execution_count": 26,
   "metadata": {},
   "outputs": [
    {
     "data": {
      "text/html": [
       "<div>\n",
       "<style scoped>\n",
       "    .dataframe tbody tr th:only-of-type {\n",
       "        vertical-align: middle;\n",
       "    }\n",
       "\n",
       "    .dataframe tbody tr th {\n",
       "        vertical-align: top;\n",
       "    }\n",
       "\n",
       "    .dataframe thead th {\n",
       "        text-align: right;\n",
       "    }\n",
       "</style>\n",
       "<table border=\"1\" class=\"dataframe\">\n",
       "  <thead>\n",
       "    <tr style=\"text-align: right;\">\n",
       "      <th></th>\n",
       "      <th>Cylinders</th>\n",
       "      <th>Displacement</th>\n",
       "      <th>Horsepower</th>\n",
       "      <th>Weight</th>\n",
       "      <th>Acceleration</th>\n",
       "      <th>Model year</th>\n",
       "      <th>Origin</th>\n",
       "      <th>MPG</th>\n",
       "      <th>Binary Classes</th>\n",
       "      <th>Origin_0</th>\n",
       "      <th>Origin_1</th>\n",
       "      <th>Origin_2</th>\n",
       "    </tr>\n",
       "  </thead>\n",
       "  <tbody>\n",
       "    <tr>\n",
       "      <th>0</th>\n",
       "      <td>8</td>\n",
       "      <td>307.0</td>\n",
       "      <td>130.0</td>\n",
       "      <td>3504.0</td>\n",
       "      <td>12.0</td>\n",
       "      <td>70</td>\n",
       "      <td>1</td>\n",
       "      <td>18.0</td>\n",
       "      <td>Low Level</td>\n",
       "      <td>0</td>\n",
       "      <td>1</td>\n",
       "      <td>0</td>\n",
       "    </tr>\n",
       "    <tr>\n",
       "      <th>1</th>\n",
       "      <td>8</td>\n",
       "      <td>350.0</td>\n",
       "      <td>165.0</td>\n",
       "      <td>3693.0</td>\n",
       "      <td>11.5</td>\n",
       "      <td>70</td>\n",
       "      <td>1</td>\n",
       "      <td>15.0</td>\n",
       "      <td>Low Level</td>\n",
       "      <td>0</td>\n",
       "      <td>1</td>\n",
       "      <td>0</td>\n",
       "    </tr>\n",
       "    <tr>\n",
       "      <th>2</th>\n",
       "      <td>8</td>\n",
       "      <td>318.0</td>\n",
       "      <td>150.0</td>\n",
       "      <td>3436.0</td>\n",
       "      <td>11.0</td>\n",
       "      <td>70</td>\n",
       "      <td>1</td>\n",
       "      <td>18.0</td>\n",
       "      <td>Low Level</td>\n",
       "      <td>0</td>\n",
       "      <td>1</td>\n",
       "      <td>0</td>\n",
       "    </tr>\n",
       "    <tr>\n",
       "      <th>3</th>\n",
       "      <td>8</td>\n",
       "      <td>304.0</td>\n",
       "      <td>150.0</td>\n",
       "      <td>3433.0</td>\n",
       "      <td>12.0</td>\n",
       "      <td>70</td>\n",
       "      <td>1</td>\n",
       "      <td>16.0</td>\n",
       "      <td>Low Level</td>\n",
       "      <td>0</td>\n",
       "      <td>1</td>\n",
       "      <td>0</td>\n",
       "    </tr>\n",
       "    <tr>\n",
       "      <th>4</th>\n",
       "      <td>8</td>\n",
       "      <td>302.0</td>\n",
       "      <td>140.0</td>\n",
       "      <td>3449.0</td>\n",
       "      <td>15.5</td>\n",
       "      <td>70</td>\n",
       "      <td>1</td>\n",
       "      <td>17.0</td>\n",
       "      <td>Low Level</td>\n",
       "      <td>0</td>\n",
       "      <td>1</td>\n",
       "      <td>0</td>\n",
       "    </tr>\n",
       "    <tr>\n",
       "      <th>...</th>\n",
       "      <td>...</td>\n",
       "      <td>...</td>\n",
       "      <td>...</td>\n",
       "      <td>...</td>\n",
       "      <td>...</td>\n",
       "      <td>...</td>\n",
       "      <td>...</td>\n",
       "      <td>...</td>\n",
       "      <td>...</td>\n",
       "      <td>...</td>\n",
       "      <td>...</td>\n",
       "      <td>...</td>\n",
       "    </tr>\n",
       "    <tr>\n",
       "      <th>392</th>\n",
       "      <td>4</td>\n",
       "      <td>151.0</td>\n",
       "      <td>90.0</td>\n",
       "      <td>2950.0</td>\n",
       "      <td>17.3</td>\n",
       "      <td>82</td>\n",
       "      <td>1</td>\n",
       "      <td>27.0</td>\n",
       "      <td>High Level</td>\n",
       "      <td>0</td>\n",
       "      <td>1</td>\n",
       "      <td>0</td>\n",
       "    </tr>\n",
       "    <tr>\n",
       "      <th>393</th>\n",
       "      <td>4</td>\n",
       "      <td>140.0</td>\n",
       "      <td>86.0</td>\n",
       "      <td>2790.0</td>\n",
       "      <td>15.6</td>\n",
       "      <td>82</td>\n",
       "      <td>1</td>\n",
       "      <td>27.0</td>\n",
       "      <td>High Level</td>\n",
       "      <td>0</td>\n",
       "      <td>1</td>\n",
       "      <td>0</td>\n",
       "    </tr>\n",
       "    <tr>\n",
       "      <th>395</th>\n",
       "      <td>4</td>\n",
       "      <td>135.0</td>\n",
       "      <td>84.0</td>\n",
       "      <td>2295.0</td>\n",
       "      <td>11.6</td>\n",
       "      <td>82</td>\n",
       "      <td>1</td>\n",
       "      <td>32.0</td>\n",
       "      <td>High Level</td>\n",
       "      <td>0</td>\n",
       "      <td>1</td>\n",
       "      <td>0</td>\n",
       "    </tr>\n",
       "    <tr>\n",
       "      <th>396</th>\n",
       "      <td>4</td>\n",
       "      <td>120.0</td>\n",
       "      <td>79.0</td>\n",
       "      <td>2625.0</td>\n",
       "      <td>18.6</td>\n",
       "      <td>82</td>\n",
       "      <td>1</td>\n",
       "      <td>28.0</td>\n",
       "      <td>High Level</td>\n",
       "      <td>0</td>\n",
       "      <td>1</td>\n",
       "      <td>0</td>\n",
       "    </tr>\n",
       "    <tr>\n",
       "      <th>397</th>\n",
       "      <td>4</td>\n",
       "      <td>119.0</td>\n",
       "      <td>82.0</td>\n",
       "      <td>2720.0</td>\n",
       "      <td>19.4</td>\n",
       "      <td>82</td>\n",
       "      <td>1</td>\n",
       "      <td>31.0</td>\n",
       "      <td>High Level</td>\n",
       "      <td>0</td>\n",
       "      <td>1</td>\n",
       "      <td>0</td>\n",
       "    </tr>\n",
       "  </tbody>\n",
       "</table>\n",
       "<p>379 rows × 12 columns</p>\n",
       "</div>"
      ],
      "text/plain": [
       "     Cylinders  Displacement  Horsepower  Weight  Acceleration  Model year  \\\n",
       "0            8         307.0       130.0  3504.0          12.0          70   \n",
       "1            8         350.0       165.0  3693.0          11.5          70   \n",
       "2            8         318.0       150.0  3436.0          11.0          70   \n",
       "3            8         304.0       150.0  3433.0          12.0          70   \n",
       "4            8         302.0       140.0  3449.0          15.5          70   \n",
       "..         ...           ...         ...     ...           ...         ...   \n",
       "392          4         151.0        90.0  2950.0          17.3          82   \n",
       "393          4         140.0        86.0  2790.0          15.6          82   \n",
       "395          4         135.0        84.0  2295.0          11.6          82   \n",
       "396          4         120.0        79.0  2625.0          18.6          82   \n",
       "397          4         119.0        82.0  2720.0          19.4          82   \n",
       "\n",
       "     Origin   MPG Binary Classes  Origin_0  Origin_1  Origin_2  \n",
       "0         1  18.0      Low Level         0         1         0  \n",
       "1         1  15.0      Low Level         0         1         0  \n",
       "2         1  18.0      Low Level         0         1         0  \n",
       "3         1  16.0      Low Level         0         1         0  \n",
       "4         1  17.0      Low Level         0         1         0  \n",
       "..      ...   ...            ...       ...       ...       ...  \n",
       "392       1  27.0     High Level         0         1         0  \n",
       "393       1  27.0     High Level         0         1         0  \n",
       "395       1  32.0     High Level         0         1         0  \n",
       "396       1  28.0     High Level         0         1         0  \n",
       "397       1  31.0     High Level         0         1         0  \n",
       "\n",
       "[379 rows x 12 columns]"
      ]
     },
     "execution_count": 26,
     "metadata": {},
     "output_type": "execute_result"
    }
   ],
   "source": [
    "One_hot = pd.get_dummies(df_im['Origin'] , prefix = 'Origin')\n",
    "df_one_hot = pd.concat([df_im,One_hot] , axis=1)\n",
    "#df_one_hot.drop(['Origin'] , axis=1 , inplace =True)\n",
    "df_one_hot"
   ]
  },
  {
   "cell_type": "markdown",
   "metadata": {},
   "source": [
    "### Creating Training,Test and Validation data"
   ]
  },
  {
   "cell_type": "code",
   "execution_count": 203,
   "metadata": {},
   "outputs": [],
   "source": [
    "dfbinary = df_one_hot.copy()\n",
    "dfbinary['Binary Classes'] = dfbinary['Binary Classes'].replace('Low Level', 0)\n",
    "dfbinary['Binary Classes'] = dfbinary['Binary Classes'].replace('High Level', 1)\n"
   ]
  },
  {
   "cell_type": "code",
   "execution_count": 204,
   "metadata": {},
   "outputs": [],
   "source": [
    "# step 1: split the data into train and split\n",
    "X = dfbinary.drop(['Binary Classes','Origin','MPG'], axis=1)\n",
    "\n",
    "y =  dfbinary.drop(['Cylinders', 'Displacement', 'Horsepower', 'Weight', 'Acceleration', 'Model year','Origin','MPG','Origin_0','Origin_1','Origin_2'], axis=1)\n",
    "X_train,X_test,y_train,y_test=train_test_split(X,y, random_state=0,stratify=y,test_size=0.2)\n",
    "\n",
    "# step 2: split the train data now into train validation and cross validation\n",
    "#train_df1,cv_df,y_train1,y_cv=train_test_split(X_train,y_train,stratify=y_train,test_size=0.2)"
   ]
  },
  {
   "cell_type": "code",
   "execution_count": 29,
   "metadata": {},
   "outputs": [
    {
     "name": "stdout",
     "output_type": "stream",
     "text": [
      "Total Number of data points:  379\n",
      "Number of data points in train data: 303\n",
      "Number of data points in test data: 76\n"
     ]
    }
   ],
   "source": [
    "print(\"Total Number of data points: \",dfbinary.shape[0])\n",
    "print(\"Number of data points in train data:\",X_train.shape[0])\n",
    "print(\"Number of data points in test data:\",X_test.shape[0])\n",
    "#print(\"Number of data points in validation data:\",cv_df.shape[0])"
   ]
  },
  {
   "cell_type": "markdown",
   "metadata": {},
   "source": [
    "### Standardization "
   ]
  },
  {
   "cell_type": "code",
   "execution_count": 30,
   "metadata": {},
   "outputs": [
    {
     "data": {
      "text/plain": [
       "SimpleImputer(strategy='median')"
      ]
     },
     "execution_count": 30,
     "metadata": {},
     "output_type": "execute_result"
    }
   ],
   "source": [
    "from sklearn.impute import SimpleImputer\n",
    "imput_mdn1 = SimpleImputer(strategy='median')\n",
    "imput_mdn1.fit(X_train)"
   ]
  },
  {
   "cell_type": "code",
   "execution_count": 31,
   "metadata": {},
   "outputs": [
    {
     "data": {
      "text/html": [
       "<div>\n",
       "<style scoped>\n",
       "    .dataframe tbody tr th:only-of-type {\n",
       "        vertical-align: middle;\n",
       "    }\n",
       "\n",
       "    .dataframe tbody tr th {\n",
       "        vertical-align: top;\n",
       "    }\n",
       "\n",
       "    .dataframe thead th {\n",
       "        text-align: right;\n",
       "    }\n",
       "</style>\n",
       "<table border=\"1\" class=\"dataframe\">\n",
       "  <thead>\n",
       "    <tr style=\"text-align: right;\">\n",
       "      <th></th>\n",
       "      <th>Cylinders</th>\n",
       "      <th>Displacement</th>\n",
       "      <th>Horsepower</th>\n",
       "      <th>Weight</th>\n",
       "      <th>Acceleration</th>\n",
       "      <th>Model year</th>\n",
       "      <th>Origin_0</th>\n",
       "      <th>Origin_1</th>\n",
       "      <th>Origin_2</th>\n",
       "    </tr>\n",
       "  </thead>\n",
       "  <tbody>\n",
       "    <tr>\n",
       "      <th>0</th>\n",
       "      <td>4.0</td>\n",
       "      <td>151.0</td>\n",
       "      <td>92.0</td>\n",
       "      <td>3035.0</td>\n",
       "      <td>20.5</td>\n",
       "      <td>82.0</td>\n",
       "      <td>0.0</td>\n",
       "      <td>1.0</td>\n",
       "      <td>0.0</td>\n",
       "    </tr>\n",
       "    <tr>\n",
       "      <th>1</th>\n",
       "      <td>4.0</td>\n",
       "      <td>121.0</td>\n",
       "      <td>115.0</td>\n",
       "      <td>2795.0</td>\n",
       "      <td>15.7</td>\n",
       "      <td>78.0</td>\n",
       "      <td>0.0</td>\n",
       "      <td>0.0</td>\n",
       "      <td>1.0</td>\n",
       "    </tr>\n",
       "    <tr>\n",
       "      <th>2</th>\n",
       "      <td>6.0</td>\n",
       "      <td>232.0</td>\n",
       "      <td>90.0</td>\n",
       "      <td>3211.0</td>\n",
       "      <td>17.0</td>\n",
       "      <td>75.0</td>\n",
       "      <td>0.0</td>\n",
       "      <td>1.0</td>\n",
       "      <td>0.0</td>\n",
       "    </tr>\n",
       "    <tr>\n",
       "      <th>3</th>\n",
       "      <td>4.0</td>\n",
       "      <td>98.0</td>\n",
       "      <td>80.0</td>\n",
       "      <td>1915.0</td>\n",
       "      <td>14.4</td>\n",
       "      <td>79.0</td>\n",
       "      <td>0.0</td>\n",
       "      <td>1.0</td>\n",
       "      <td>0.0</td>\n",
       "    </tr>\n",
       "    <tr>\n",
       "      <th>4</th>\n",
       "      <td>6.0</td>\n",
       "      <td>198.0</td>\n",
       "      <td>95.0</td>\n",
       "      <td>2904.0</td>\n",
       "      <td>16.0</td>\n",
       "      <td>73.0</td>\n",
       "      <td>0.0</td>\n",
       "      <td>1.0</td>\n",
       "      <td>0.0</td>\n",
       "    </tr>\n",
       "    <tr>\n",
       "      <th>...</th>\n",
       "      <td>...</td>\n",
       "      <td>...</td>\n",
       "      <td>...</td>\n",
       "      <td>...</td>\n",
       "      <td>...</td>\n",
       "      <td>...</td>\n",
       "      <td>...</td>\n",
       "      <td>...</td>\n",
       "      <td>...</td>\n",
       "    </tr>\n",
       "    <tr>\n",
       "      <th>298</th>\n",
       "      <td>6.0</td>\n",
       "      <td>250.0</td>\n",
       "      <td>110.0</td>\n",
       "      <td>2807.0</td>\n",
       "      <td>16.2</td>\n",
       "      <td>76.0</td>\n",
       "      <td>0.0</td>\n",
       "      <td>1.0</td>\n",
       "      <td>0.0</td>\n",
       "    </tr>\n",
       "    <tr>\n",
       "      <th>299</th>\n",
       "      <td>4.0</td>\n",
       "      <td>90.0</td>\n",
       "      <td>70.0</td>\n",
       "      <td>1937.0</td>\n",
       "      <td>14.0</td>\n",
       "      <td>75.0</td>\n",
       "      <td>0.0</td>\n",
       "      <td>0.0</td>\n",
       "      <td>1.0</td>\n",
       "    </tr>\n",
       "    <tr>\n",
       "      <th>300</th>\n",
       "      <td>4.0</td>\n",
       "      <td>122.0</td>\n",
       "      <td>86.0</td>\n",
       "      <td>2220.0</td>\n",
       "      <td>14.0</td>\n",
       "      <td>71.0</td>\n",
       "      <td>0.0</td>\n",
       "      <td>1.0</td>\n",
       "      <td>0.0</td>\n",
       "    </tr>\n",
       "    <tr>\n",
       "      <th>301</th>\n",
       "      <td>4.0</td>\n",
       "      <td>105.0</td>\n",
       "      <td>74.0</td>\n",
       "      <td>2190.0</td>\n",
       "      <td>14.2</td>\n",
       "      <td>81.0</td>\n",
       "      <td>0.0</td>\n",
       "      <td>0.0</td>\n",
       "      <td>1.0</td>\n",
       "    </tr>\n",
       "    <tr>\n",
       "      <th>302</th>\n",
       "      <td>6.0</td>\n",
       "      <td>200.0</td>\n",
       "      <td>85.0</td>\n",
       "      <td>2965.0</td>\n",
       "      <td>15.8</td>\n",
       "      <td>78.0</td>\n",
       "      <td>0.0</td>\n",
       "      <td>1.0</td>\n",
       "      <td>0.0</td>\n",
       "    </tr>\n",
       "  </tbody>\n",
       "</table>\n",
       "<p>303 rows × 9 columns</p>\n",
       "</div>"
      ],
      "text/plain": [
       "     Cylinders  Displacement  Horsepower  Weight  Acceleration  Model year  \\\n",
       "0          4.0         151.0        92.0  3035.0          20.5        82.0   \n",
       "1          4.0         121.0       115.0  2795.0          15.7        78.0   \n",
       "2          6.0         232.0        90.0  3211.0          17.0        75.0   \n",
       "3          4.0          98.0        80.0  1915.0          14.4        79.0   \n",
       "4          6.0         198.0        95.0  2904.0          16.0        73.0   \n",
       "..         ...           ...         ...     ...           ...         ...   \n",
       "298        6.0         250.0       110.0  2807.0          16.2        76.0   \n",
       "299        4.0          90.0        70.0  1937.0          14.0        75.0   \n",
       "300        4.0         122.0        86.0  2220.0          14.0        71.0   \n",
       "301        4.0         105.0        74.0  2190.0          14.2        81.0   \n",
       "302        6.0         200.0        85.0  2965.0          15.8        78.0   \n",
       "\n",
       "     Origin_0  Origin_1  Origin_2  \n",
       "0         0.0       1.0       0.0  \n",
       "1         0.0       0.0       1.0  \n",
       "2         0.0       1.0       0.0  \n",
       "3         0.0       1.0       0.0  \n",
       "4         0.0       1.0       0.0  \n",
       "..        ...       ...       ...  \n",
       "298       0.0       1.0       0.0  \n",
       "299       0.0       0.0       1.0  \n",
       "300       0.0       1.0       0.0  \n",
       "301       0.0       0.0       1.0  \n",
       "302       0.0       1.0       0.0  \n",
       "\n",
       "[303 rows x 9 columns]"
      ]
     },
     "execution_count": 31,
     "metadata": {},
     "output_type": "execute_result"
    }
   ],
   "source": [
    "im_train = imput_mdn1.transform(X_train)\n",
    "dfimput_train=pd.DataFrame(im_train, columns=X_train.columns)\n",
    "dfimput_train"
   ]
  },
  {
   "cell_type": "code",
   "execution_count": 75,
   "metadata": {},
   "outputs": [
    {
     "data": {
      "text/plain": [
       "(303, 9)"
      ]
     },
     "execution_count": 75,
     "metadata": {},
     "output_type": "execute_result"
    }
   ],
   "source": [
    "from sklearn.preprocessing import StandardScaler\n",
    "scaler = StandardScaler()\n",
    "dfscale_train = scaler.fit_transform(dfimput_train)\n",
    "dfscale_train.shape"
   ]
  },
  {
   "cell_type": "code",
   "execution_count": 76,
   "metadata": {},
   "outputs": [],
   "source": [
    "final_data=dfscale_train"
   ]
  },
  {
   "cell_type": "code",
   "execution_count": 77,
   "metadata": {},
   "outputs": [
    {
     "data": {
      "text/plain": [
       "(303, 9)"
      ]
     },
     "execution_count": 77,
     "metadata": {},
     "output_type": "execute_result"
    }
   ],
   "source": [
    "final_data.shape"
   ]
  },
  {
   "cell_type": "code",
   "execution_count": 208,
   "metadata": {},
   "outputs": [
    {
     "data": {
      "text/plain": [
       "(303,)"
      ]
     },
     "execution_count": 208,
     "metadata": {},
     "output_type": "execute_result"
    }
   ],
   "source": [
    "ytrain = y_train['Binary Classes'].values\n",
    "ytrain.shape"
   ]
  },
  {
   "cell_type": "code",
   "execution_count": 209,
   "metadata": {},
   "outputs": [
    {
     "data": {
      "text/plain": [
       "(76, 9)"
      ]
     },
     "execution_count": 209,
     "metadata": {},
     "output_type": "execute_result"
    }
   ],
   "source": [
    "from sklearn.impute import SimpleImputer\n",
    "imput_mdn1_test = SimpleImputer(strategy='median')\n",
    "imput_mdn1_test.fit(X_test)\n",
    "im_Xtest = imput_mdn1_test.transform(X_test)\n",
    "dfimput_Xtest=pd.DataFrame(im_Xtest, columns=X_test.columns)\n",
    "from sklearn.preprocessing import StandardScaler\n",
    "scaler = StandardScaler()\n",
    "dfscale_test = scaler.fit_transform(dfimput_Xtest)\n",
    "dfscale_test.shape\n",
    "final_Xtest=dfscale_test.copy()\n",
    "final_Xtest.shape"
   ]
  },
  {
   "cell_type": "code",
   "execution_count": 210,
   "metadata": {},
   "outputs": [
    {
     "data": {
      "text/plain": [
       "(76,)"
      ]
     },
     "execution_count": 210,
     "metadata": {},
     "output_type": "execute_result"
    }
   ],
   "source": [
    "ytest=y_test['Binary Classes'].values\n",
    "ytest.shape"
   ]
  },
  {
   "cell_type": "code",
   "execution_count": 37,
   "metadata": {},
   "outputs": [],
   "source": [
    "#One_hot = pd.get_dummies(df_im['Origin'] , prefix = 'Origin')\n",
    "#df_one_hot = pd.concat([df_im,One_hot] , axis=1)\n",
    "#df_one_hot.drop(['Origin'] , axis=1 , inplace =True)\n",
    "\n",
    "\n",
    "\n",
    "#imput_mdn1 = SimpleImputer(strategy='median')\n",
    "#dfimput1 = df_one_hot.drop(['Cylinders','Binary Classes','MPG'],axis =1)\n",
    "#imput_mdn1.fit(dfimput1)\n",
    "#imput_mdn1.statistics_"
   ]
  },
  {
   "cell_type": "code",
   "execution_count": 38,
   "metadata": {},
   "outputs": [],
   "source": [
    "#im = imput_mdn1.transform(dfimput1)\n",
    "#dfimput2=pd.DataFrame(im, columns=dfimput1.columns)\n",
    "#dfimput2.head()"
   ]
  },
  {
   "cell_type": "code",
   "execution_count": 39,
   "metadata": {},
   "outputs": [],
   "source": [
    "#scaler = StandardScaler()\n",
    "#dfscale = scaler.fit_transform(dfimput2)\n",
    "#dfscale"
   ]
  },
  {
   "cell_type": "code",
   "execution_count": 40,
   "metadata": {},
   "outputs": [],
   "source": [
    "#cat_encoder = OneHotEncoder()\n",
    "#dfonehot=cat_encoder.fit_transform(data_o1[['Origin']])\n",
    "#dfonehot=dfonehot.toarray()\n",
    "#dfonehot"
   ]
  },
  {
   "cell_type": "markdown",
   "metadata": {},
   "source": [
    "Split After standardization"
   ]
  },
  {
   "cell_type": "code",
   "execution_count": 41,
   "metadata": {},
   "outputs": [],
   "source": [
    "# step 1: split the data into train and split\n",
    "#X1 = df_one_hot.drop(['Binary Classes'], axis=1)\n",
    "\n",
    "#y1 =  df_one_hot.drop(['Cylinders', 'Displacement', 'Horsepower', 'Weight', 'Acceleration', 'Model year','Displacement','Horsepower','Weight','Acceleration','Model year','Origin_0','Origin_1','Origin_2','MPG'], axis=1)\n",
    "#X_train1,test_df1,y_train1,y_test1=train_test_split(X1,y1, random_state=0,stratify=y1,test_size=0.2)\n",
    "\n",
    "# step 2: split the train data now into train validation and cross validation\n",
    "#train_df1,cv_df1,y_train1,y_cv1=train_test_split(X_train1,y_train1,stratify=y_train1,test_size=0.2)"
   ]
  },
  {
   "cell_type": "code",
   "execution_count": 42,
   "metadata": {},
   "outputs": [],
   "source": [
    "#print(\"Total Number of data points: \",df_one_hot.shape[0])\n",
    "#print(\"Number of data points in train data:\",X_train1.shape[0])\n",
    "#print(\"Number of data points in test data:\",test_df1.shape[0])\n",
    "#print(\"Number of data points in train data:\",cv_df1.shape[0])"
   ]
  },
  {
   "cell_type": "code",
   "execution_count": 43,
   "metadata": {},
   "outputs": [],
   "source": [
    "#from sklearn.preprocessing import OneHotEncoder\n",
    "#cat_encoder = OneHotEncoder()\n",
    "#dfonehot=X_train[['Origin_0','Origin_1','Origin_2']]\n",
    "#dfonehot=np.array(dfonehot)\n",
    "#dfonehot.shape"
   ]
  },
  {
   "cell_type": "code",
   "execution_count": 44,
   "metadata": {},
   "outputs": [],
   "source": [
    "#dfconcat=np.concatenate((dfscale_train,dfcylinder),axis=1)\n",
    "#xconcat=dfconcat"
   ]
  },
  {
   "cell_type": "markdown",
   "metadata": {},
   "source": [
    "## 2.Binary Classifications"
   ]
  },
  {
   "cell_type": "markdown",
   "metadata": {},
   "source": [
    "### Dummy Classifier"
   ]
  },
  {
   "cell_type": "code",
   "execution_count": 79,
   "metadata": {},
   "outputs": [
    {
     "data": {
      "text/plain": [
       "0.49836065573770494"
      ]
     },
     "execution_count": 79,
     "metadata": {},
     "output_type": "execute_result"
    }
   ],
   "source": [
    "from sklearn.model_selection import cross_val_score\n",
    "\n",
    "from sklearn.dummy import DummyClassifier\n",
    "\n",
    "# Apply a random classifier\n",
    "dmy_clsf = DummyClassifier(random_state=42)\n",
    "dmy_clsf.fit(final_data,ytrain)\n",
    "Accuracy1=cross_val_score(dmy_clsf,final_data,ytrain, cv=5, scoring=\"accuracy\")\n",
    "np.mean(Accuracy1)"
   ]
  },
  {
   "cell_type": "code",
   "execution_count": 80,
   "metadata": {},
   "outputs": [
    {
     "data": {
      "text/plain": [
       "array([[82, 71],\n",
       "       [81, 69]], dtype=int64)"
      ]
     },
     "execution_count": 80,
     "metadata": {},
     "output_type": "execute_result"
    }
   ],
   "source": [
    "from sklearn.model_selection import cross_val_predict\n",
    "from sklearn.metrics import confusion_matrix\n",
    "y_train_pred_ = cross_val_predict(dmy_clsf,final_data,ytrain, cv=5)\n",
    "confusion_matrix(ytrain, y_train_pred_)"
   ]
  },
  {
   "cell_type": "code",
   "execution_count": 81,
   "metadata": {},
   "outputs": [
    {
     "name": "stdout",
     "output_type": "stream",
     "text": [
      "Precision=  0.4928571428571429\n",
      "Recall (sensitivity)=  0.46\n"
     ]
    }
   ],
   "source": [
    "from sklearn.metrics import precision_score, recall_score\n",
    "precision=precision_score(ytrain, y_train_pred_) \n",
    "print('Precision= ',precision)\n",
    "recall=recall_score(ytrain, y_train_pred_) \n",
    "print('Recall (sensitivity)= ',recall)"
   ]
  },
  {
   "cell_type": "code",
   "execution_count": 107,
   "metadata": {},
   "outputs": [
    {
     "name": "stdout",
     "output_type": "stream",
     "text": [
      "Best params_:  {'strategy': 'stratified'}\n",
      "Best_score:  0.5277595628415301\n"
     ]
    }
   ],
   "source": [
    "from sklearn.model_selection import RandomizedSearchCV\n",
    "\n",
    "np.random.seed(42)\n",
    "estimatorDummyClassifier = DummyClassifier()\n",
    "paramslinear = {'strategy':[\"stratified\",\"most_frequent\",\"prior\",\"uniform\" ,\"constant\",'warn']}\n",
    "result4 = RandomizedSearchCV(estimatorDummyClassifier, paramslinear, cv=5, scoring='accuracy')\n",
    "result4.fit(final_data, ytrain)\n",
    "print(\"Best params_: \",result4.best_params_)\n",
    "print(\"Best_score: \",result4.best_score_)\n"
   ]
  },
  {
   "cell_type": "code",
   "execution_count": 110,
   "metadata": {},
   "outputs": [
    {
     "data": {
      "text/plain": [
       "DummyClassifier(random_state=42, strategy='stratified')"
      ]
     },
     "execution_count": 110,
     "metadata": {},
     "output_type": "execute_result"
    }
   ],
   "source": [
    "# Call Dummy classifier\n",
    "Dummy_clsf_finetune = DummyClassifier(strategy='stratified',random_state=42)\n",
    "# Train Dummy classifier\n",
    "Dummy_clsf_finetune.fit(final_data, ytrain)"
   ]
  },
  {
   "cell_type": "code",
   "execution_count": 296,
   "metadata": {},
   "outputs": [
    {
     "name": "stdout",
     "output_type": "stream",
     "text": [
      "[0.47540984 0.54098361 0.47540984 0.53333333 0.46666667]\n",
      "Dummy Classifier Accuracy(mean of 5 accuracy) After Fine Tune : 0.498\n"
     ]
    }
   ],
   "source": [
    "from sklearn.model_selection import cross_val_score\n",
    "Tuned_Accuracy3=cross_val_score(Dummy_clsf_finetune,final_data, ytrain,cv=5, scoring=\"accuracy\")\n",
    "Dummy_Accuracy=Tuned_Accuracy3\n",
    "print(Tuned_Accuracy3)\n",
    "print(\"Dummy Classifier Accuracy(mean of 5 accuracy) After Fine Tune :\",round(np.mean(Tuned_Accuracy3),3))\n",
    "Dummy_Accuracy1=round(np.mean(Tuned_Accuracy3),3)"
   ]
  },
  {
   "cell_type": "markdown",
   "metadata": {},
   "source": [
    "#### Accuracy of Dummy Classifier model After Fine tune remains same  50%"
   ]
  },
  {
   "cell_type": "markdown",
   "metadata": {},
   "source": [
    "### Stochastic Gradient Descent."
   ]
  },
  {
   "cell_type": "code",
   "execution_count": 112,
   "metadata": {},
   "outputs": [
    {
     "data": {
      "text/plain": [
       "SGDClassifier(random_state=42)"
      ]
     },
     "execution_count": 112,
     "metadata": {},
     "output_type": "execute_result"
    }
   ],
   "source": [
    "from sklearn.linear_model import SGDClassifier\n",
    "# Call SGD classifier\n",
    "sgd_clsf = SGDClassifier(random_state=42)\n",
    "# Train SGD classifier\n",
    "sgd_clsf.fit(final_data, ytrain)"
   ]
  },
  {
   "cell_type": "code",
   "execution_count": 113,
   "metadata": {},
   "outputs": [
    {
     "data": {
      "text/plain": [
       "0.878"
      ]
     },
     "execution_count": 113,
     "metadata": {},
     "output_type": "execute_result"
    }
   ],
   "source": [
    "from sklearn.model_selection import cross_val_score\n",
    "Accuracy2=cross_val_score(sgd_clsf,final_data, ytrain,cv=5, scoring=\"accuracy\")\n",
    "round(np.mean(Accuracy2),3)"
   ]
  },
  {
   "cell_type": "markdown",
   "metadata": {},
   "source": [
    "The accuracy is fairly high and indicates the ration of correct Predictions"
   ]
  },
  {
   "cell_type": "markdown",
   "metadata": {},
   "source": [
    "By applying ML we managed to improve the AVG accuracy 50 % for a dummy classifier to 96 % AVG accuracy in a SGD model by 46%"
   ]
  },
  {
   "cell_type": "code",
   "execution_count": 114,
   "metadata": {},
   "outputs": [
    {
     "data": {
      "text/plain": [
       "array([[133,  20],\n",
       "       [ 17, 133]], dtype=int64)"
      ]
     },
     "execution_count": 114,
     "metadata": {},
     "output_type": "execute_result"
    }
   ],
   "source": [
    "from sklearn.model_selection import cross_val_predict\n",
    "from sklearn.metrics import confusion_matrix\n",
    "y_train_pred = cross_val_predict(sgd_clsf,final_data,ytrain, cv=5)\n",
    "confusion_matrix(ytrain, y_train_pred)"
   ]
  },
  {
   "cell_type": "code",
   "execution_count": 115,
   "metadata": {},
   "outputs": [
    {
     "name": "stdout",
     "output_type": "stream",
     "text": [
      "Precision=  0.869281045751634\n",
      "Recall (sensitivity)=  0.8866666666666667\n"
     ]
    }
   ],
   "source": [
    "from sklearn.metrics import precision_score, recall_score\n",
    "precision=precision_score(ytrain, y_train_pred) \n",
    "print('Precision= ',precision)\n",
    "recall=recall_score(ytrain, y_train_pred) \n",
    "print('Recall (sensitivity)= ',recall)"
   ]
  },
  {
   "cell_type": "code",
   "execution_count": 116,
   "metadata": {},
   "outputs": [
    {
     "name": "stdout",
     "output_type": "stream",
     "text": [
      "Best params_:  {'penalty': 'l2', 'loss': 'hinge', 'eta0': 0.0, 'early_stopping': True}\n",
      "Best_score:  0.5277595628415301\n"
     ]
    }
   ],
   "source": [
    "from sklearn.model_selection import RandomizedSearchCV\n",
    "\n",
    "np.random.seed(42)\n",
    "estimatorSGDClassifier = SGDClassifier()\n",
    "paramslinear = {'penalty':['l2', 'l1', 'elasticnet'],'loss': ['hinge','squared_hinge','log', 'modified_huber'],'eta0' : ['double',0.0],'early_stopping':[True,False]}\n",
    "result1 = RandomizedSearchCV(estimatorSGDClassifier, paramslinear, cv=5, scoring='accuracy')\n",
    "result1.fit(final_data, ytrain)\n",
    "print(\"Best params_: \",result1.best_params_)\n",
    "print(\"Best_score: \",result4.best_score_)"
   ]
  },
  {
   "cell_type": "code",
   "execution_count": 344,
   "metadata": {},
   "outputs": [
    {
     "name": "stdout",
     "output_type": "stream",
     "text": [
      "[0.93442623 0.75409836 0.83606557 0.91666667 0.85      ]\n",
      "SGD Classifier Accuracy(mean of 5 accuracy) After Fine Tune : 0.858\n"
     ]
    }
   ],
   "source": [
    "from sklearn.linear_model import SGDClassifier\n",
    "# Call SGD classifier\n",
    "sgd_clsf_finetune = SGDClassifier(penalty='l1', loss='log', eta0= 0.0, early_stopping= False)\n",
    "# Train SGD classifier\n",
    "sgd_clsf_finetune.fit(final_data, ytrain)\n",
    "from sklearn.model_selection import cross_val_score\n",
    "sgd_Accuracy=cross_val_score(sgd_clsf_finetune,final_data, ytrain,cv=5, scoring=\"accuracy\")\n",
    "print(sgd_Accuracy)\n",
    "print(\"SGD Classifier Accuracy(mean of 5 accuracy) After Fine Tune :\",round(np.mean(sgd_Accuracy),3))\n",
    "SGD_Accuracy1=round(np.mean(sgd_Accuracy),3)"
   ]
  },
  {
   "cell_type": "code",
   "execution_count": 118,
   "metadata": {},
   "outputs": [
    {
     "data": {
      "text/plain": [
       "array([[135,  18],\n",
       "       [ 21, 129]], dtype=int64)"
      ]
     },
     "execution_count": 118,
     "metadata": {},
     "output_type": "execute_result"
    }
   ],
   "source": [
    "from sklearn.model_selection import cross_val_predict\n",
    "from sklearn.metrics import confusion_matrix\n",
    "y_train_pred_sgd = cross_val_predict(sgd_clsf_finetune,final_data,ytrain, cv=5)\n",
    "confusion_matrix(ytrain, y_train_pred_sgd)"
   ]
  },
  {
   "cell_type": "markdown",
   "metadata": {},
   "source": [
    "### Accuracy of SGD Classifier model After Fine tune improved from 87 % to 88% by 1%"
   ]
  },
  {
   "cell_type": "markdown",
   "metadata": {},
   "source": [
    "## 3.  Logistic Regression"
   ]
  },
  {
   "cell_type": "code",
   "execution_count": 92,
   "metadata": {},
   "outputs": [
    {
     "data": {
      "text/plain": [
       "LogisticRegression(random_state=42)"
      ]
     },
     "execution_count": 92,
     "metadata": {},
     "output_type": "execute_result"
    }
   ],
   "source": [
    "from sklearn.linear_model import LogisticRegression\n",
    "# Call LR classifier\n",
    "LR_clsf = LogisticRegression(random_state=42)\n",
    "# Train LR classifier\n",
    "LR_clsf.fit(final_data, ytrain)"
   ]
  },
  {
   "cell_type": "code",
   "execution_count": 93,
   "metadata": {},
   "outputs": [
    {
     "data": {
      "text/plain": [
       "array([0.95081967, 0.85245902, 0.83606557, 0.88333333, 0.86666667])"
      ]
     },
     "execution_count": 93,
     "metadata": {},
     "output_type": "execute_result"
    }
   ],
   "source": [
    "from sklearn.model_selection import cross_val_score\n",
    "LRAccuracy=cross_val_score(LR_clsf,final_data, ytrain,cv=5, scoring=\"accuracy\")\n",
    "LRAccuracy"
   ]
  },
  {
   "cell_type": "code",
   "execution_count": 94,
   "metadata": {},
   "outputs": [
    {
     "data": {
      "text/plain": [
       "0.878"
      ]
     },
     "execution_count": 94,
     "metadata": {},
     "output_type": "execute_result"
    }
   ],
   "source": [
    "round(np.mean(LRAccuracy),3)"
   ]
  },
  {
   "cell_type": "code",
   "execution_count": 95,
   "metadata": {},
   "outputs": [
    {
     "data": {
      "text/plain": [
       "array([[131,  22],\n",
       "       [ 15, 135]], dtype=int64)"
      ]
     },
     "execution_count": 95,
     "metadata": {},
     "output_type": "execute_result"
    }
   ],
   "source": [
    "from sklearn.model_selection import cross_val_predict\n",
    "from sklearn.metrics import confusion_matrix\n",
    "y_train_pred_LR = cross_val_predict(LR_clsf,final_data,ytrain, cv=5)\n",
    "confusion_matrix(ytrain, y_train_pred_LR)"
   ]
  },
  {
   "cell_type": "code",
   "execution_count": 96,
   "metadata": {},
   "outputs": [
    {
     "name": "stdout",
     "output_type": "stream",
     "text": [
      "Best params_:  {'penalty': 'l2', 'max_iter': 50, 'C': 4.281332398719396}\n",
      "Best_score:  0.8845901639344262\n"
     ]
    }
   ],
   "source": [
    "from sklearn.model_selection import RandomizedSearchCV\n",
    "from sklearn.linear_model import LogisticRegression\n",
    "np.random.seed(42)\n",
    "estimatorLR = LogisticRegression()\n",
    "paramslinear = {'penalty':['l2', 'l1', 'elasticnet','none'],'max_iter':list(range(10,101,10)),'C':np.logspace(-4,4,20)}\n",
    "result4 = RandomizedSearchCV(estimatorLR, paramslinear, cv=5, scoring='accuracy')\n",
    "result4.fit(final_data, ytrain)\n",
    "print(\"Best params_: \",result4.best_params_)\n",
    "print(\"Best_score: \",result4.best_score_)"
   ]
  },
  {
   "cell_type": "code",
   "execution_count": 297,
   "metadata": {},
   "outputs": [
    {
     "name": "stdout",
     "output_type": "stream",
     "text": [
      "[0.91803279 0.83606557 0.85245902 0.91666667 0.88333333]\n",
      "LR Classifier Accuracy(mean of 5 accuracy) After Fine : 0.881\n"
     ]
    }
   ],
   "source": [
    "from sklearn.linear_model import LogisticRegression\n",
    "# Call LR classifier\n",
    "LR_clsf_finetune = LogisticRegression(penalty='none', max_iter=70,C=545.559,random_state=42)\n",
    "# Train LR classifier\n",
    "LR_clsf_finetune.fit(final_data, ytrain)\n",
    "from sklearn.model_selection import cross_val_score\n",
    "LR_Accuracy=cross_val_score(LR_clsf_finetune,final_data, ytrain, cv=5, scoring=\"accuracy\")\n",
    "print(LR_Accuracy)\n",
    "print(\"LR Classifier Accuracy(mean of 5 accuracy) After Fine :\",round(np.mean(LR_Accuracy),3))\n",
    "LogisticReg_Accuracy1=round(np.mean(LR_Accuracy),3)"
   ]
  },
  {
   "cell_type": "code",
   "execution_count": 98,
   "metadata": {},
   "outputs": [
    {
     "data": {
      "text/plain": [
       "array([[133,  20],\n",
       "       [ 16, 134]], dtype=int64)"
      ]
     },
     "execution_count": 98,
     "metadata": {},
     "output_type": "execute_result"
    }
   ],
   "source": [
    "from sklearn.model_selection import cross_val_predict\n",
    "from sklearn.metrics import confusion_matrix\n",
    "y_train_pred_LR_ = cross_val_predict(LR_clsf_finetune,final_data,ytrain, cv=5)\n",
    "confusion_matrix(ytrain, y_train_pred_LR_)"
   ]
  },
  {
   "cell_type": "markdown",
   "metadata": {},
   "source": [
    "### Accuracy of LogisticRegression Classifier model After Fine tune improves by 1 %  , i,e from 87% to 88%"
   ]
  },
  {
   "cell_type": "markdown",
   "metadata": {},
   "source": [
    "### 4. Support Vector Machine:Linear"
   ]
  },
  {
   "cell_type": "code",
   "execution_count": 99,
   "metadata": {},
   "outputs": [
    {
     "data": {
      "text/plain": [
       "LinearSVC(C=1)"
      ]
     },
     "execution_count": 99,
     "metadata": {},
     "output_type": "execute_result"
    }
   ],
   "source": [
    "from sklearn.svm import LinearSVC\n",
    "np.random.seed(42)\n",
    "linearsvmclf = LinearSVC(C=1,loss='squared_hinge')\n",
    "linearsvmclf.fit(final_data, ytrain)"
   ]
  },
  {
   "cell_type": "code",
   "execution_count": 123,
   "metadata": {},
   "outputs": [
    {
     "name": "stdout",
     "output_type": "stream",
     "text": [
      "SVM Classifier Accuracy(mean of 5 accuracy): 0.885\n"
     ]
    },
    {
     "data": {
      "text/plain": [
       "array([[133,  20],\n",
       "       [ 15, 135]], dtype=int64)"
      ]
     },
     "execution_count": 123,
     "metadata": {},
     "output_type": "execute_result"
    }
   ],
   "source": [
    "from sklearn.model_selection import cross_val_score\n",
    "SVM_Accuracies = cross_val_score(linearsvmclf, final_data, ytrain, cv=5, scoring='accuracy')\n",
    "print(\"SVM Classifier Accuracy(mean of 5 accuracy):\",round(np.mean(SVM_Accuracies),3))\n",
    "y_train_pred_LR = cross_val_predict(linearsvmclf,final_data,ytrain, cv=5)\n",
    "confusion_matrix(ytrain, y_train_pred_LR)"
   ]
  },
  {
   "cell_type": "code",
   "execution_count": 101,
   "metadata": {},
   "outputs": [
    {
     "name": "stdout",
     "output_type": "stream",
     "text": [
      "{'loss': 'hinge', 'C': 0.03359818286283781}\n",
      "Best_score:  0.9008196721311474\n"
     ]
    }
   ],
   "source": [
    "from sklearn.svm import SVC\n",
    "np.random.seed(42)\n",
    "estimatorsvc = LinearSVC()\n",
    "paramssvc = {'C':list(np.logspace(-4,4,20)),'loss' : ['hinge', 'squared_hinge']}\n",
    "searchsvc = RandomizedSearchCV(estimatorsvc, paramssvc, cv=5, scoring = 'accuracy')\n",
    "searchsvc.fit(final_data, ytrain)\n",
    "print(searchsvc.best_params_)\n",
    "print(\"Best_score: \",searchsvc.best_score_)"
   ]
  },
  {
   "cell_type": "code",
   "execution_count": 298,
   "metadata": {},
   "outputs": [
    {
     "name": "stdout",
     "output_type": "stream",
     "text": [
      "[0.95081967 0.90163934 0.90163934 0.9        0.85      ]\n",
      "SVM Classifier Accuracy(mean of 5 accuracy) After Fine Tune : 0.901\n"
     ]
    }
   ],
   "source": [
    "np.random.seed(42)\n",
    "linearsvmclf_fine_tuned = LinearSVC(C=0.0335,loss='hinge')\n",
    "linearsvmclf_fine_tuned.fit(final_data, ytrain)\n",
    "SVM_tuned_Accuracy=cross_val_score(linearsvmclf_fine_tuned,final_data, ytrain, cv=5, scoring=\"accuracy\")\n",
    "print(SVM_tuned_Accuracy)\n",
    "print(\"SVM Classifier Accuracy(mean of 5 accuracy) After Fine Tune :\",round(np.mean(SVM_tuned_Accuracy),3))\n",
    "SVMLinear_Accuracy1=round(np.mean(SVM_tuned_Accuracy),3)"
   ]
  },
  {
   "cell_type": "markdown",
   "metadata": {},
   "source": [
    "### Accuracy of LinearSVM Classifier model After Fine tune improves by 2 %  , i,e from 88% to 90%"
   ]
  },
  {
   "cell_type": "markdown",
   "metadata": {},
   "source": [
    "### 5. Support Vector Machine: Polynomial Kernel"
   ]
  },
  {
   "cell_type": "code",
   "execution_count": 103,
   "metadata": {},
   "outputs": [
    {
     "name": "stdout",
     "output_type": "stream",
     "text": [
      "Polynomial Kernel SVM : 0.8647540983606558\n"
     ]
    },
    {
     "data": {
      "text/plain": [
       "array([[135,  18],\n",
       "       [ 23, 127]], dtype=int64)"
      ]
     },
     "execution_count": 103,
     "metadata": {},
     "output_type": "execute_result"
    }
   ],
   "source": [
    "np.random.seed(42)\n",
    "Polysvc=SVC(kernel='poly', C = 40, coef0 = 1.788888888888889, degree = 3)\n",
    "Polysvc.fit(final_data,ytrain)\n",
    "PolySVMccuracy=cross_val_score(Polysvc,final_data, ytrain,cv=5, scoring=\"accuracy\")\n",
    "print(\"Polynomial Kernel SVM :\",np.mean(PolySVMccuracy))\n",
    "y_train_pred_PolySVM = cross_val_predict(Polysvc,final_data,ytrain, cv=5)\n",
    "confusion_matrix(ytrain, y_train_pred_PolySVM)"
   ]
  },
  {
   "cell_type": "code",
   "execution_count": 104,
   "metadata": {},
   "outputs": [
    {
     "name": "stdout",
     "output_type": "stream",
     "text": [
      "{'degree': 1, 'coef0': 0.3111111111111111, 'C': 1}\n",
      "Best_score:  0.8942622950819672\n"
     ]
    }
   ],
   "source": [
    "from sklearn.svm import SVC\n",
    "np.random.seed(42)\n",
    "estimatorPsvc = SVC(kernel='poly')\n",
    "paramsPsvc = {'C': [1,20,40,60,80,100], 'degree': [1,2,3,4,5,6,7,8,9,10],'coef0': list(np.linspace(0.1,2,10))}\n",
    "searchPsvc = RandomizedSearchCV(estimatorPsvc, paramsPsvc, cv=5, scoring = 'accuracy')\n",
    "searchPsvc.fit(final_data, ytrain)\n",
    "print(searchPsvc.best_params_)\n",
    "print(\"Best_score: \",searchPsvc.best_score_)"
   ]
  },
  {
   "cell_type": "code",
   "execution_count": 301,
   "metadata": {},
   "outputs": [
    {
     "name": "stdout",
     "output_type": "stream",
     "text": [
      "Polynomial Kernel SVM after Fine tune : 0.8942622950819672\n"
     ]
    }
   ],
   "source": [
    "np.random.seed(42)\n",
    "Polysvc_Tuned=SVC(kernel='poly', C = 1, coef0 =0.311, degree = 1)\n",
    "Polysvc_Tuned.fit(final_data,ytrain)\n",
    "PolySVMccuracy_tuned=cross_val_score(Polysvc_Tuned,final_data, ytrain,cv=5, scoring=\"accuracy\")\n",
    "print(\"Polynomial Kernel SVM after Fine tune :\",np.mean(PolySVMccuracy_tuned))\n",
    "y_train_pred_PolySVM_ = cross_val_predict(Polysvc_Tuned,final_data,ytrain, cv=5)\n",
    "confusion_matrix(ytrain, y_train_pred_PolySVM_)\n",
    "SVMPoly_Accuracy1=round(np.mean(PolySVMccuracy_tuned),3)"
   ]
  },
  {
   "cell_type": "markdown",
   "metadata": {},
   "source": [
    "### Accuracy of SVM:Polynomial Classifier model After Fine tune improves by 3 %  , i,e from 86% to 89%"
   ]
  },
  {
   "cell_type": "markdown",
   "metadata": {},
   "source": [
    "## 6.Random Forest Classifier"
   ]
  },
  {
   "cell_type": "code",
   "execution_count": 122,
   "metadata": {},
   "outputs": [
    {
     "data": {
      "text/plain": [
       "RandomForestClassifier(random_state=42)"
      ]
     },
     "execution_count": 122,
     "metadata": {},
     "output_type": "execute_result"
    }
   ],
   "source": [
    "from sklearn.ensemble import RandomForestClassifier\n",
    "RandomForest_ = RandomForestClassifier(random_state=42)\n",
    "RandomForest_.fit(final_data, ytrain)"
   ]
  },
  {
   "cell_type": "code",
   "execution_count": 336,
   "metadata": {},
   "outputs": [
    {
     "name": "stdout",
     "output_type": "stream",
     "text": [
      "RF Classifier Accuracy(mean of 5 accuracy): 0.914\n"
     ]
    },
    {
     "data": {
      "text/plain": [
       "array([[138,  15],\n",
       "       [ 11, 139]], dtype=int64)"
      ]
     },
     "execution_count": 336,
     "metadata": {},
     "output_type": "execute_result"
    }
   ],
   "source": [
    "from sklearn.model_selection import cross_val_score\n",
    "RF_Accuracies = cross_val_score(RandomForest_, final_data, ytrain, cv=5, scoring='accuracy')\n",
    "print(\"RF Classifier Accuracy(mean of 5 accuracy):\",round(np.mean(RF_Accuracies),3))\n",
    "y_train_pred_RF = cross_val_predict(RandomForest_,final_data,ytrain, cv=5)\n",
    "confusion_matrix(ytrain, y_train_pred_RF)"
   ]
  },
  {
   "cell_type": "code",
   "execution_count": 126,
   "metadata": {},
   "outputs": [
    {
     "name": "stdout",
     "output_type": "stream",
     "text": [
      "{'n_estimators': 6, 'min_samples_split': 3, 'max_depth': 10, 'bootstrap': False}\n",
      "Best_score:  0.9208196721311476\n"
     ]
    }
   ],
   "source": [
    "np.random.seed(42)\n",
    "estimatorRF = RandomForestClassifier()\n",
    "paramsRF = {'n_estimators': list(range(1,10,1)), 'max_depth': [None,1,2,3,4,5,6,7,8,9,10],'min_samples_split': list(range(1,10,1)),'bootstrap':[True,False]}\n",
    "searchRF = RandomizedSearchCV(estimatorRF, paramsRF, cv=5, scoring = 'accuracy')\n",
    "searchRF.fit(final_data, ytrain)\n",
    "print(searchRF.best_params_)\n",
    "print(\"Best_score: \",searchRF.best_score_)"
   ]
  },
  {
   "cell_type": "code",
   "execution_count": 128,
   "metadata": {},
   "outputs": [
    {
     "data": {
      "text/plain": [
       "RandomForestClassifier(bootstrap=False, max_depth=10, min_samples_split=3,\n",
       "                       n_estimators=6, random_state=42)"
      ]
     },
     "execution_count": 128,
     "metadata": {},
     "output_type": "execute_result"
    }
   ],
   "source": [
    "RandomForest_Tuned = RandomForestClassifier(n_estimators=6,min_samples_split=3,max_depth=10,bootstrap=False,random_state=42)\n",
    "RandomForest_Tuned.fit(final_data, ytrain)"
   ]
  },
  {
   "cell_type": "code",
   "execution_count": 302,
   "metadata": {},
   "outputs": [
    {
     "name": "stdout",
     "output_type": "stream",
     "text": [
      "Random Forest Classifier Accuracy(mean of 5 accuracy) After Fine Tune: 0.918\n"
     ]
    }
   ],
   "source": [
    "from sklearn.model_selection import cross_val_score\n",
    "RF_Accuracies_Tuned = cross_val_score(RandomForest_Tuned, final_data, ytrain, cv=5, scoring='accuracy')\n",
    "RF_Accuracies__=round(np.mean(RF_Accuracies_Tuned),3)\n",
    "print(\"Random Forest Classifier Accuracy(mean of 5 accuracy) After Fine Tune:\",RF_Accuracies__)\n",
    "y_train_pred_RF_ = cross_val_predict(RandomForest_Tuned,final_data,ytrain, cv=5)\n",
    "confusion_matrix(ytrain, y_train_pred_RF_)\n",
    "RF_Accuracy1=round(np.mean(RF_Accuracies_Tuned),3)"
   ]
  },
  {
   "cell_type": "markdown",
   "metadata": {},
   "source": [
    "### Accuracy of Random Forest Classifier model After Fine tune no such improvements 91%"
   ]
  },
  {
   "cell_type": "markdown",
   "metadata": {},
   "source": [
    "## 8. Decision Tree Classifier"
   ]
  },
  {
   "cell_type": "code",
   "execution_count": 176,
   "metadata": {},
   "outputs": [],
   "source": [
    "dfbinary_1=dfbinary.copy() # lets replace our target variable with categorical values\n",
    "dfbinary_1['Binary Classes'] = dfbinary_1['Binary Classes'].replace(0,'Low Level')\n",
    "dfbinary_1['Binary Classes'] = dfbinary_1['Binary Classes'].replace(1,'High Level')"
   ]
  },
  {
   "cell_type": "code",
   "execution_count": 164,
   "metadata": {},
   "outputs": [],
   "source": [
    "X = dfbinary_1.drop(['Binary Classes','Origin','MPG'], axis=1)\n",
    "\n",
    "y =  dfbinary_1.drop(['Cylinders', 'Displacement', 'Horsepower', 'Weight', 'Acceleration', 'Model year','Origin','MPG','Origin_0','Origin_1','Origin_2'], axis=1)\n",
    "X_train1,X_test1,y_train1,y_test1=train_test_split(X,y, random_state=0,stratify=y,test_size=0.2)"
   ]
  },
  {
   "cell_type": "code",
   "execution_count": 353,
   "metadata": {},
   "outputs": [
    {
     "data": {
      "text/plain": [
       "SimpleImputer(strategy='median')"
      ]
     },
     "execution_count": 353,
     "metadata": {},
     "output_type": "execute_result"
    }
   ],
   "source": [
    "from sklearn.impute import SimpleImputer\n",
    "imput_mdn2 = SimpleImputer(strategy='median')\n",
    "imput_mdn2.fit(X_train1)\n",
    "from sklearn.impute import SimpleImputer\n",
    "imput_mdn3 = SimpleImputer(strategy='median')\n",
    "imput_mdn3.fit(X_test1)"
   ]
  },
  {
   "cell_type": "code",
   "execution_count": 359,
   "metadata": {},
   "outputs": [
    {
     "name": "stdout",
     "output_type": "stream",
     "text": [
      "(303, 9)\n",
      "(76, 9)\n"
     ]
    }
   ],
   "source": [
    "# Split X_train & y_train for traing the Decision model\n",
    "im_train1 = imput_mdn2.transform(X_train1)\n",
    "dfimput_train1=pd.DataFrame(im_train1, columns=X_train1.columns)\n",
    "\n",
    "from sklearn.preprocessing import StandardScaler\n",
    "scaler = StandardScaler()\n",
    "dfscale_train1 = scaler.fit_transform(dfimput_train1)\n",
    "print(dfscale_train1.shape)\n",
    "DT_Xtrain=dfscale_train1.copy()\n",
    "ytrain1 = y_train1['Binary Classes'].values\n",
    "\n",
    "# Split X_test & ytest for testing the Decision model\n",
    "\n",
    "im_test3 = imput_mdn3.transform(X_test1)\n",
    "dfimput_test3=pd.DataFrame(im_test3, columns=X_test1.columns)\n",
    "\n",
    "from sklearn.preprocessing import StandardScaler\n",
    "scaler = StandardScaler()\n",
    "dfscale_test3 = scaler.fit_transform(dfimput_test3)\n",
    "print(dfscale_test3.shape)\n",
    "DT_Xtest=dfscale_test3.copy()\n",
    "ytest1_ = y_test1['Binary Classes'].values"
   ]
  },
  {
   "cell_type": "code",
   "execution_count": 171,
   "metadata": {},
   "outputs": [
    {
     "data": {
      "text/plain": [
       "DecisionTreeClassifier(random_state=42)"
      ]
     },
     "execution_count": 171,
     "metadata": {},
     "output_type": "execute_result"
    }
   ],
   "source": [
    "from sklearn.tree import DecisionTreeClassifier\n",
    "from sklearn.model_selection import cross_val_score\n",
    "\n",
    "DTree1 = DecisionTreeClassifier(criterion='gini',random_state=42)\n",
    "DTree1.fit(DT_Xtrain, ytrain1)"
   ]
  },
  {
   "cell_type": "code",
   "execution_count": 172,
   "metadata": {},
   "outputs": [
    {
     "name": "stdout",
     "output_type": "stream",
     "text": [
      "Decision Tree Classifier Accuracy(mean of 5 accuracy): 0.858\n"
     ]
    },
    {
     "data": {
      "text/plain": [
       "array([[131,  19],\n",
       "       [ 18, 135]], dtype=int64)"
      ]
     },
     "execution_count": 172,
     "metadata": {},
     "output_type": "execute_result"
    }
   ],
   "source": [
    "DT_Accuracies1 = cross_val_score(DTree1, DT_Xtrain, ytrain, cv=5, scoring='accuracy')\n",
    "print(\"Decision Tree Classifier Accuracy(mean of 5 accuracy):\",round(np.mean(DT_Accuracies1),3))\n",
    "y_train_pred_DT1 = cross_val_predict(DTree1,DT_Xtrain,ytrain1, cv=5)\n",
    "confusion_matrix(ytrain1, y_train_pred_DT1)"
   ]
  },
  {
   "cell_type": "code",
   "execution_count": 173,
   "metadata": {},
   "outputs": [
    {
     "name": "stdout",
     "output_type": "stream",
     "text": [
      "{'min_samples_split': 2, 'min_samples_leaf': 1, 'max_depth': 7, 'criterion': 'entropy'}\n",
      "Best_score:  0.9079234972677594\n"
     ]
    }
   ],
   "source": [
    "np.random.seed(42)\n",
    "estimatorDT1 = DecisionTreeClassifier()\n",
    "paramsDT1 = {'max_depth': [None,1,2,3,4,5,6,7,8,9,10],'min_samples_split': list(range(1,10,1)),\n",
    "            'min_samples_leaf':list(range(1,10,1)),'criterion':['gini','entropy']}\n",
    "searchDT1 = RandomizedSearchCV(estimatorDT, paramsDT1, cv=5, scoring = 'accuracy')\n",
    "searchDT1.fit(DT_Xtrain, ytrain1)\n",
    "print(searchDT1.best_params_)\n",
    "print(\"Best_score: \",searchDT1.best_score_)"
   ]
  },
  {
   "cell_type": "code",
   "execution_count": 303,
   "metadata": {},
   "outputs": [
    {
     "name": "stdout",
     "output_type": "stream",
     "text": [
      "Decision Tree Classifier Accuracy(mean of 5 accuracy) After Fine Tune: 0.908\n"
     ]
    }
   ],
   "source": [
    "DTree_1 = DecisionTreeClassifier(max_depth=7,min_samples_leaf=1,min_samples_split=2,criterion='entropy',random_state=42)\n",
    "DTree_1.fit(DT_Xtrain, ytrain1)\n",
    "DT_Accuracies_Tuned1 = cross_val_score(DTree_1, DT_Xtrain, ytrain1, cv=5, scoring='accuracy')\n",
    "DT_Accuracies__1=round(np.mean(DT_Accuracies_Tuned1),3)\n",
    "print(\"Decision Tree Classifier Accuracy(mean of 5 accuracy) After Fine Tune:\",DT_Accuracies__1)\n",
    "y_train_pred_DT_1= cross_val_predict(DTree_1,DT_Xtrain,ytrain1, cv=5)\n",
    "confusion_matrix(ytrain1, y_train_pred_DT_1)\n",
    "DT_Accuracy1=round(np.mean(DT_Accuracies_Tuned1),3)"
   ]
  },
  {
   "cell_type": "markdown",
   "metadata": {},
   "source": [
    "### Accuracy of Decision Tree Classifier After Fine tune improved from 85 % to 90 % by 5%"
   ]
  },
  {
   "cell_type": "markdown",
   "metadata": {},
   "source": [
    "## 8.Hard and Soft Voting"
   ]
  },
  {
   "cell_type": "code",
   "execution_count": 310,
   "metadata": {},
   "outputs": [
    {
     "name": "stdout",
     "output_type": "stream",
     "text": [
      "Hard Voting Score  0.91\n",
      "Soft Voting Score  0.89\n"
     ]
    }
   ],
   "source": [
    "import numpy as np\n",
    "from sklearn.linear_model import LogisticRegression\n",
    "from sklearn.ensemble import RandomForestClassifier, VotingClassifier\n",
    "from sklearn.metrics import accuracy_score\n",
    "\n",
    "\n",
    "  \n",
    "# group / ensemble of models \n",
    "estimator = [] \n",
    "estimator.append(('LR', LogisticRegression(penalty='none', max_iter=70,C=545.559,random_state=42)))\n",
    "estimator.append(('RF', RandomForestClassifier(n_estimators=6,min_samples_split=3,max_depth=10,bootstrap=False,random_state=42)))\n",
    "estimator.append(('SGD',SGDClassifier(penalty='l1', loss='log', eta0= 0.0, early_stopping= False))) \n",
    "  \n",
    "# Voting Classifier with hard voting \n",
    "vot_hard = VotingClassifier(estimators = estimator, voting ='hard') \n",
    "vot_hard.fit(final_data, ytrain) \n",
    "y_pred1 = vot_hard.predict(final_Xtest) \n",
    "  \n",
    "# using accuracy_score metric to predict accuracy \n",
    "Hard_Voting_score = accuracy_score(ytest, y_pred1) \n",
    "print(\"Hard Voting Score \",round((Hard_Voting_score),2)) \n",
    "  \n",
    "# Voting Classifier with soft voting \n",
    "vot_soft = VotingClassifier(estimators = estimator, voting ='soft') \n",
    "vot_soft.fit(final_data, ytrain) \n",
    "y_pred2 = vot_soft.predict(final_Xtest) \n",
    "Hard_Voting_score1=round((Hard_Voting_score),2)\n",
    "# using accuracy_score \n",
    "Soft_Voting_score = accuracy_score(ytest, y_pred2) \n",
    "print(\"Soft Voting Score \",round((Soft_Voting_score),2) )\n",
    "Soft_Voting_score1=round((Soft_Voting_score),2)"
   ]
  },
  {
   "cell_type": "code",
   "execution_count": 311,
   "metadata": {},
   "outputs": [],
   "source": [
    "method_scores=[]\n",
    "method_scores.append({\"Dummy\":Dummy_Accuracy1})\n",
    "method_scores.append({\"Decision Tree\":DT_Accuracy1})\n",
    "method_scores.append({\"SGD\":SGD_Accuracy1})\n",
    "method_scores.append({\"SVMLinear_Accuracy\":SVMLinear_Accuracy1})\n",
    "method_scores.append({\"LogisticReg_Accuracy\":LogisticReg_Accuracy1})\n",
    "method_scores.append({\"SVMPoly_Accuracy\":SVMPoly_Accuracy1})\n",
    "method_scores.append({\"RF_Accuracy\":RF_Accuracy1})\n",
    "method_scores.append({\"Hard_Voting\":Hard_Voting_score1})\n",
    "method_scores.append({\"Soft_Voting\":Soft_Voting_score1})\n"
   ]
  },
  {
   "cell_type": "code",
   "execution_count": 367,
   "metadata": {},
   "outputs": [],
   "source": [
    "Overall_Model_Train_scores=pd.DataFrame([method_scores])"
   ]
  },
  {
   "cell_type": "code",
   "execution_count": 368,
   "metadata": {},
   "outputs": [
    {
     "data": {
      "text/html": [
       "<div>\n",
       "<style scoped>\n",
       "    .dataframe tbody tr th:only-of-type {\n",
       "        vertical-align: middle;\n",
       "    }\n",
       "\n",
       "    .dataframe tbody tr th {\n",
       "        vertical-align: top;\n",
       "    }\n",
       "\n",
       "    .dataframe thead th {\n",
       "        text-align: right;\n",
       "    }\n",
       "</style>\n",
       "<table border=\"1\" class=\"dataframe\">\n",
       "  <thead>\n",
       "    <tr style=\"text-align: right;\">\n",
       "      <th></th>\n",
       "      <th>0</th>\n",
       "      <th>1</th>\n",
       "      <th>2</th>\n",
       "      <th>3</th>\n",
       "      <th>4</th>\n",
       "      <th>5</th>\n",
       "      <th>6</th>\n",
       "      <th>7</th>\n",
       "      <th>8</th>\n",
       "    </tr>\n",
       "  </thead>\n",
       "  <tbody>\n",
       "    <tr>\n",
       "      <th>0</th>\n",
       "      <td>{'Dummy': 0.498}</td>\n",
       "      <td>{'Decision Tree': 0.908}</td>\n",
       "      <td>{'SGD': 0.878}</td>\n",
       "      <td>{'SVMLinear_Accuracy': 0.901}</td>\n",
       "      <td>{'LogisticReg_Accuracy': 0.881}</td>\n",
       "      <td>{'SVMPoly_Accuracy': 0.894}</td>\n",
       "      <td>{'RF_Accuracy': 0.918}</td>\n",
       "      <td>{'Hard_Voting': 0.91}</td>\n",
       "      <td>{'Soft_Voting': 0.89}</td>\n",
       "    </tr>\n",
       "  </tbody>\n",
       "</table>\n",
       "</div>"
      ],
      "text/plain": [
       "                  0                         1               2  \\\n",
       "0  {'Dummy': 0.498}  {'Decision Tree': 0.908}  {'SGD': 0.878}   \n",
       "\n",
       "                               3                                4  \\\n",
       "0  {'SVMLinear_Accuracy': 0.901}  {'LogisticReg_Accuracy': 0.881}   \n",
       "\n",
       "                             5                       6                      7  \\\n",
       "0  {'SVMPoly_Accuracy': 0.894}  {'RF_Accuracy': 0.918}  {'Hard_Voting': 0.91}   \n",
       "\n",
       "                       8  \n",
       "0  {'Soft_Voting': 0.89}  "
      ]
     },
     "execution_count": 368,
     "metadata": {},
     "output_type": "execute_result"
    }
   ],
   "source": [
    "Overall_Model_Train_scores   # Should be represented in barplot"
   ]
  },
  {
   "cell_type": "markdown",
   "metadata": {},
   "source": [
    "## HyperTuning the Models"
   ]
  },
  {
   "cell_type": "code",
   "execution_count": 341,
   "metadata": {},
   "outputs": [
    {
     "name": "stdout",
     "output_type": "stream",
     "text": [
      "[0.375      0.33333333 0.46666667 0.33333333 0.6       ]\n",
      "Dummy Classifier Accuracy(mean of 5 accuracy) After Fine Tune : 0.422\n"
     ]
    }
   ],
   "source": [
    "# 1 . Dummy Classifier \n",
    "# Call Dummy classifier\n",
    "Dummy_clsf_finetune1 = DummyClassifier(strategy='stratified',random_state=42)\n",
    "# Train Dummy classifier\n",
    "Dummy_clsf_finetune1.fit(X_test, ytest)\n",
    "\n",
    "from sklearn.model_selection import cross_val_score\n",
    "Tuned_Accuracy3_=cross_val_score(Dummy_clsf_finetune1,X_test, ytest,cv=5, scoring=\"accuracy\")\n",
    "Dummy_Accuracy_=Tuned_Accuracy3_\n",
    "print(Tuned_Accuracy3)\n",
    "print(\"Dummy Classifier Accuracy(mean of 5 accuracy) After Fine Tune :\",round(np.mean(Tuned_Accuracy3_),3))\n",
    "Dummy_Accuracy1=round(np.mean(Tuned_Accuracy3_),3)"
   ]
  },
  {
   "cell_type": "code",
   "execution_count": 342,
   "metadata": {},
   "outputs": [
    {
     "name": "stdout",
     "output_type": "stream",
     "text": [
      "[0.5625     0.46666667 0.53333333 0.93333333 0.46666667]\n",
      "SGD Classifier Accuracy(mean of 5 accuracy) After Fine Tune : 0.592\n"
     ]
    }
   ],
   "source": [
    "# 2. Stochastiic Gradient Descent\n",
    "\n",
    "from sklearn.linear_model import SGDClassifier\n",
    "# Call SGD classifier\n",
    "sgd_clsf_finetune1 = SGDClassifier(penalty='l1', loss='log', eta0= 0.0, early_stopping= False)\n",
    "# Train SGD classifier\n",
    "sgd_clsf_finetune1.fit(X_test, ytest)\n",
    "from sklearn.model_selection import cross_val_score\n",
    "sgd_Accuracy_=cross_val_score(sgd_clsf_finetune,X_test, ytest,cv=5, scoring=\"accuracy\")\n",
    "print(sgd_Accuracy_)\n",
    "print(\"SGD Classifier Accuracy(mean of 5 accuracy) After Fine Tune :\",round(np.mean(sgd_Accuracy_),3))\n",
    "SGD_Accuracy1=round(np.mean(sgd_Accuracy),3)"
   ]
  },
  {
   "cell_type": "code",
   "execution_count": 347,
   "metadata": {},
   "outputs": [
    {
     "name": "stdout",
     "output_type": "stream",
     "text": [
      "[0.9375     0.8        1.         1.         0.73333333]\n",
      "LR Classifier Accuracy(mean of 5 accuracy) After Fine : 0.894\n"
     ]
    }
   ],
   "source": [
    "# 3.LogisticRegression Classifier\n",
    "\n",
    "from sklearn.linear_model import LogisticRegression\n",
    "# Call LR classifier\n",
    "LR_clsf_finetune1 = LogisticRegression(penalty='none', max_iter=70,C=545.559,random_state=42)\n",
    "# Train LR classifier\n",
    "LR_clsf_finetune1.fit(X_test, ytest)\n",
    "from sklearn.model_selection import cross_val_score\n",
    "LR_Accuracy_=cross_val_score(LR_clsf_finetune1,X_test, ytest, cv=5, scoring=\"accuracy\")\n",
    "print(LR_Accuracy_)\n",
    "print(\"LR Classifier Accuracy(mean of 5 accuracy) After Fine :\",round(np.mean(LR_Accuracy_),3))\n",
    "LogisticReg_Accuracy1=round(np.mean(LR_Accuracy_),3)"
   ]
  },
  {
   "cell_type": "code",
   "execution_count": 348,
   "metadata": {},
   "outputs": [
    {
     "name": "stdout",
     "output_type": "stream",
     "text": [
      "[0.9375     0.73333333 0.8        0.8        0.73333333]\n",
      "SVM Classifier Accuracy(mean of 5 accuracy) After Fine Tune : 0.801\n"
     ]
    }
   ],
   "source": [
    "# 4.LinearSVM\n",
    "\n",
    "np.random.seed(42)\n",
    "linearsvmclf_fine_tuned1 = LinearSVC(C=0.0335,loss='hinge')\n",
    "linearsvmclf_fine_tuned1.fit(X_test, ytest)\n",
    "SVM_tuned_Accuracy_=cross_val_score(linearsvmclf_fine_tuned1,X_test, ytest, cv=5, scoring=\"accuracy\")\n",
    "print(SVM_tuned_Accuracy_)\n",
    "print(\"SVM Classifier Accuracy(mean of 5 accuracy) After Fine Tune :\",round(np.mean(SVM_tuned_Accuracy_),3))\n",
    "SVMLinear_Accuracy1=round(np.mean(SVM_tuned_Accuracy_),3)"
   ]
  },
  {
   "cell_type": "code",
   "execution_count": 351,
   "metadata": {},
   "outputs": [
    {
     "name": "stdout",
     "output_type": "stream",
     "text": [
      "Polynomial Kernel SVM after Fine tune : 0.8141666666666667\n"
     ]
    }
   ],
   "source": [
    "# 5.Polynomial Kernel SVM \n",
    "np.random.seed(42)\n",
    "Polysvc_Tuned1=SVC(kernel='poly', C = 1, coef0 =0.311, degree = 1)\n",
    "Polysvc_Tuned1.fit(final_data,ytrain)\n",
    "PolySVMccuracy_tuned_=cross_val_score(Polysvc_Tuned,X_test, ytest,cv=5, scoring=\"accuracy\")\n",
    "print(\"Polynomial Kernel SVM after Fine tune :\",np.mean(PolySVMccuracy_tuned_))\n",
    "y_train_pred_PolySVM__ = cross_val_predict(Polysvc_Tuned1,X_test, ytest, cv=5)\n",
    "SVMPoly_Accuracy1=round(np.mean(PolySVMccuracy_tuned_),3)"
   ]
  },
  {
   "cell_type": "code",
   "execution_count": 361,
   "metadata": {},
   "outputs": [
    {
     "name": "stdout",
     "output_type": "stream",
     "text": [
      "Decision Tree Classifier Accuracy(mean of 5 accuracy) After Fine Tune: 0.828\n"
     ]
    }
   ],
   "source": [
    "# 6.DecisionTreeClassifier\n",
    "DTree_2 = DecisionTreeClassifier(max_depth=7,min_samples_leaf=1,min_samples_split=2,criterion='entropy',random_state=42)\n",
    "DTree_2.fit(DT_Xtest, ytest1_)\n",
    "DT_Accuracies_Tuned2 = cross_val_score(DTree_2, DT_Xtest, ytest1_, cv=5, scoring='accuracy')\n",
    "DT_Accuracies__2=round(np.mean(DT_Accuracies_Tuned2),3)\n",
    "print(\"Decision Tree Classifier Accuracy(mean of 5 accuracy) After Fine Tune:\",DT_Accuracies__2)\n",
    "y_train_pred_DT_2= cross_val_predict(DTree_2,DT_Xtest, ytest1_, cv=5)\n",
    "DT_Accuracy1=round(np.mean(DT_Accuracies_Tuned2),3)"
   ]
  },
  {
   "cell_type": "code",
   "execution_count": 343,
   "metadata": {},
   "outputs": [
    {
     "name": "stdout",
     "output_type": "stream",
     "text": [
      "Random Forest Classifier Accuracy(mean of 5 accuracy) After Fine Tune: 0.855\n"
     ]
    }
   ],
   "source": [
    "#7.Random Forest Classifer\n",
    "\n",
    "from sklearn.ensemble import RandomForestClassifier\n",
    "RandomForest_Tuned1 = RandomForestClassifier(n_estimators=6,min_samples_split=3,max_depth=10,bootstrap=False,random_state=42)\n",
    "RandomForest_Tuned1.fit(X_test, ytest)\n",
    "\n",
    "from sklearn.model_selection import cross_val_score\n",
    "RF_Accuracies_Tuned = cross_val_score(RandomForest_Tuned1, X_test, ytest, cv=5, scoring='accuracy')\n",
    "RF_Accuracies__=round(np.mean(RF_Accuracies_Tuned),3)\n",
    "print(\"Random Forest Classifier Accuracy(mean of 5 accuracy) After Fine Tune:\",RF_Accuracies__)\n",
    "y_train_pred_RF_ = cross_val_predict(RandomForest_Tuned,X_test,ytest, cv=5)\n",
    "confusion_matrix(ytest, y_train_pred_RF_)\n",
    "RF_Accuracy1=round(np.mean(RF_Accuracies_Tuned),3)\n",
    "\n"
   ]
  },
  {
   "cell_type": "code",
   "execution_count": 366,
   "metadata": {},
   "outputs": [
    {
     "name": "stdout",
     "output_type": "stream",
     "text": [
      "Hard Voting Score  0.96\n",
      "Soft Voting Score  0.95\n"
     ]
    }
   ],
   "source": [
    "# 8.Hard Voting and Soft Voting\n",
    "\n",
    "vot_hard = VotingClassifier(estimators = estimator, voting ='hard') \n",
    "vot_hard.fit(X_test, ytest) \n",
    "y_pred2 = vot_hard.predict(X_test) \n",
    "  \n",
    "# using accuracy_score metric to predict accuracy \n",
    "Hard_Voting_score = accuracy_score(ytest, y_pred2) \n",
    "print(\"Hard Voting Score \",round((Hard_Voting_score),2)) \n",
    "  \n",
    "# Voting Classifier with soft voting \n",
    "vot_soft = VotingClassifier(estimators = estimator, voting ='soft') \n",
    "vot_soft.fit(X_test, ytest) \n",
    "y_pred3 = vot_soft.predict(X_test) \n",
    "Hard_Voting_score1=round((Hard_Voting_score),2)\n",
    "# using accuracy_score \n",
    "Soft_Voting_score = accuracy_score(ytest, y_pred3) \n",
    "print(\"Soft Voting Score \",round((Soft_Voting_score),2) )\n",
    "Soft_Voting_score1=round((Soft_Voting_score),2)"
   ]
  },
  {
   "cell_type": "markdown",
   "metadata": {},
   "source": [
    "## RESULT : \n",
    "LogisticRegression Model when applied to Test Model Results in 89 % Accuracy, given Accuracy 88% for Training Model"
   ]
  },
  {
   "cell_type": "markdown",
   "metadata": {},
   "source": [
    "# 3. Regression"
   ]
  },
  {
   "cell_type": "markdown",
   "metadata": {},
   "source": [
    "## 3. Decision Tree Regressor"
   ]
  },
  {
   "cell_type": "code",
   "execution_count": 156,
   "metadata": {},
   "outputs": [
    {
     "data": {
      "text/plain": [
       "DecisionTreeClassifier(random_state=42)"
      ]
     },
     "execution_count": 156,
     "metadata": {},
     "output_type": "execute_result"
    }
   ],
   "source": [
    "from sklearn.tree import DecisionTreeClassifier\n",
    "from sklearn.model_selection import cross_val_score\n",
    "\n",
    "DTree = DecisionTreeClassifier(criterion='gini',random_state=42)\n",
    "DTree.fit(final_data, ytrain)"
   ]
  },
  {
   "cell_type": "code",
   "execution_count": 178,
   "metadata": {},
   "outputs": [
    {
     "name": "stdout",
     "output_type": "stream",
     "text": [
      "Decision Tree Regressor Accuracy(mean of 5 accuracy): 0.901\n"
     ]
    },
    {
     "data": {
      "text/plain": [
       "array([[140,  13],\n",
       "       [ 17, 133]], dtype=int64)"
      ]
     },
     "execution_count": 178,
     "metadata": {},
     "output_type": "execute_result"
    }
   ],
   "source": [
    "DT_Accuracies = cross_val_score(DTree, final_data, ytrain, cv=5, scoring='accuracy')\n",
    "print(\"Decision Tree Regressor Accuracy(mean of 5 accuracy):\",round(np.mean(DT_Accuracies),3))\n",
    "y_train_pred_DT = cross_val_predict(DTree,final_data,ytrain, cv=5)\n",
    "confusion_matrix(ytrain, y_train_pred_DT)"
   ]
  },
  {
   "cell_type": "code",
   "execution_count": 158,
   "metadata": {},
   "outputs": [
    {
     "name": "stdout",
     "output_type": "stream",
     "text": [
      "{'min_samples_split': 2, 'min_samples_leaf': 1, 'max_depth': 7, 'criterion': 'entropy'}\n",
      "Best_score:  0.8977595628415301\n"
     ]
    }
   ],
   "source": [
    "np.random.seed(42)\n",
    "estimatorDT = DecisionTreeClassifier()\n",
    "paramsDT = {'max_depth': [None,1,2,3,4,5,6,7,8,9,10],'min_samples_split': list(range(1,10,1)),\n",
    "            'min_samples_leaf':list(range(1,10,1)),'criterion':['gini','entropy']}\n",
    "searchDT = RandomizedSearchCV(estimatorDT, paramsDT, cv=5, scoring = 'accuracy')\n",
    "searchDT.fit(final_data, ytrain)\n",
    "print(searchDT.best_params_)\n",
    "print(\"Best_score: \",searchDT.best_score_)"
   ]
  },
  {
   "cell_type": "code",
   "execution_count": 177,
   "metadata": {},
   "outputs": [
    {
     "name": "stdout",
     "output_type": "stream",
     "text": [
      "Decision Tree Regressor Accuracy(mean of 5 accuracy) After Fine Tune: 0.904\n"
     ]
    },
    {
     "data": {
      "text/plain": [
       "array([[136,  17],\n",
       "       [ 12, 138]], dtype=int64)"
      ]
     },
     "execution_count": 177,
     "metadata": {},
     "output_type": "execute_result"
    }
   ],
   "source": [
    "DTree_ = DecisionTreeClassifier(max_depth=7,min_samples_leaf=1,min_samples_split=2,criterion='entropy',random_state=42)\n",
    "DTree_.fit(final_data, ytrain)\n",
    "DT_Accuracies_Tuned = cross_val_score(DTree_, final_data, ytrain, cv=5, scoring='accuracy')\n",
    "DT_Accuracies__=round(np.mean(DT_Accuracies_Tuned),3)\n",
    "print(\"Decision Tree Regressor Accuracy(mean of 5 accuracy) After Fine Tune:\",DT_Accuracies__)\n",
    "y_train_pred_DT_ = cross_val_predict(DTree_,final_data,ytrain, cv=5)\n",
    "confusion_matrix(ytrain, y_train_pred_DT_)"
   ]
  },
  {
   "cell_type": "markdown",
   "metadata": {},
   "source": [
    "# Results: \n",
    "* Overall Best Score for Train Model -Random Forest and Hard Voting 91%\n",
    "* After Hyper Parameter Tuning Hard Voting on test data gave 96% accurate results and that of RandomForest Test Accuracy 85% "
   ]
  },
  {
   "cell_type": "code",
   "execution_count": null,
   "metadata": {},
   "outputs": [],
   "source": []
  }
 ],
 "metadata": {
  "kernelspec": {
   "display_name": "Python 3",
   "language": "python",
   "name": "python3"
  },
  "language_info": {
   "codemirror_mode": {
    "name": "ipython",
    "version": 3
   },
   "file_extension": ".py",
   "mimetype": "text/x-python",
   "name": "python",
   "nbconvert_exporter": "python",
   "pygments_lexer": "ipython3",
   "version": "3.7.6"
  }
 },
 "nbformat": 4,
 "nbformat_minor": 4
}
